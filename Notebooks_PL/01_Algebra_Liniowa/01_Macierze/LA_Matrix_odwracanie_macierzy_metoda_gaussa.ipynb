{
 "cells": [
  {
   "cell_type": "markdown",
   "metadata": {
    "id": "a2iMT_jW0dj4"
   },
   "source": [
    "## Odwracanie macierzy metodą Gaussa"
   ]
  },
  {
   "cell_type": "code",
   "execution_count": 31,
   "metadata": {},
   "outputs": [],
   "source": [
    "from sympy import Matrix, Rational, latex\n",
    "from IPython.display import display, Markdown, Math, HTML\n",
    "\n",
    "class InvertibleMatrix:\n",
    "    def __init__(self, matrix):\n",
    "        \"\"\"\n",
    "        Inicjalizuje macierz do odwracania metodą Gaussa-Jordana.\n",
    "\n",
    "        Parameters:\n",
    "        - matrix: Kwadratowa macierz, którą chcemy odwrócić.\n",
    "        \"\"\"\n",
    "        # Convert all entries to Rational numbers\n",
    "        self.matrix = Matrix(matrix).applyfunc(Rational)\n",
    "        self.operations = []\n",
    "\n",
    "        # Sprawdza, czy macierz jest kwadratowa\n",
    "        if self.matrix.rows != self.matrix.cols:\n",
    "            raise ValueError(\"Macierz musi być kwadratowa.\")\n",
    "\n",
    "        # Tworzy rozszerzoną macierz z macierzą jednostkową (with Rational entries)\n",
    "        identity = Matrix.eye(self.matrix.rows).applyfunc(Rational)\n",
    "        self.aug_matrix = self.matrix.row_join(identity)\n",
    "\n",
    "        display(Markdown(\"**Początkowa macierz (Starting matrix):**\"))\n",
    "        self.display_matrix()\n",
    "\n",
    "    def __repr__(self):\n",
    "        return repr(self.aug_matrix)\n",
    "\n",
    "    def __str__(self):\n",
    "        return str(self.aug_matrix)\n",
    "\n",
    "    def _repr_latex_(self):\n",
    "        return self.aug_matrix._repr_latex_()\n",
    "\n",
    "    def _validate_row_number(self, row):\n",
    "        if not isinstance(row, int):\n",
    "            raise TypeError(\"Numer wiersza musi być liczbą całkowitą.\")\n",
    "        if row < 1 or row > self.aug_matrix.rows:\n",
    "            raise IndexError(f\"Numer wiersza musi być w zakresie od 1 do {self.aug_matrix.rows}.\")\n",
    "        return row - 1\n",
    "\n",
    "    def add_row(self, target_row, source_row, coefficient):\n",
    "        target_idx = self._validate_row_number(target_row)\n",
    "        source_idx = self._validate_row_number(source_row)\n",
    "        coefficient = Rational(coefficient)\n",
    "\n",
    "        self.aug_matrix.row_op(target_idx, lambda v, j: v + coefficient * self.aug_matrix[source_idx, j])\n",
    "\n",
    "        operation_str = f\"w{target_row} = w{target_row} + {coefficient}*w{source_row}\"\n",
    "        self.operations.append(operation_str)\n",
    "        display(Markdown(f\"**Operacja (Operation):** {operation_str}\"))\n",
    "        self.display_matrix()\n",
    "\n",
    "    def multiply_row(self, row, coefficient):\n",
    "        row_idx = self._validate_row_number(row)\n",
    "        coefficient = Rational(coefficient)\n",
    "\n",
    "        self.aug_matrix.row_op(row_idx, lambda v, _: coefficient * v)\n",
    "\n",
    "        operation_str = f\"w{row} = {coefficient}*w{row}\"\n",
    "        self.operations.append(operation_str)\n",
    "        display(Markdown(f\"**Operacja (Operation):** {operation_str}\"))\n",
    "        self.display_matrix()\n",
    "\n",
    "    def swap_rows(self, row1, row2):\n",
    "        row1_idx = self._validate_row_number(row1)\n",
    "        row2_idx = self._validate_row_number(row2)\n",
    "\n",
    "        self.aug_matrix.row_swap(row1_idx, row2_idx)\n",
    "\n",
    "        operation_str = f\"Zamiana w{row1} <-> w{row2}\"\n",
    "        self.operations.append(operation_str)\n",
    "        display(Markdown(f\"**Operacja (Operation):** {operation_str}\"))\n",
    "        self.display_matrix()\n",
    "\n",
    "    def display_matrix(self):\n",
    "        \"\"\"Wyświetla lewą i prawą macierz obok siebie w formacie LaTeX.\"\"\"\n",
    "        left_matrix = self.aug_matrix[:, :self.matrix.cols]\n",
    "        right_matrix = self.aug_matrix[:, self.matrix.cols:]\n",
    "\n",
    "        # Generowanie kodu LaTeX dla obu macierzy\n",
    "        left_latex = latex(left_matrix)\n",
    "        right_latex = latex(right_matrix)\n",
    "\n",
    "        # Kombinacja obu macierzy w jeden wyświetlany wynik\n",
    "        combined_latex = r\"\"\"\n",
    "        %s\n",
    "        \\quad\n",
    "        %s\n",
    "        \"\"\" % (left_latex, right_latex)\n",
    "\n",
    "        display(Math(combined_latex))\n",
    "\n",
    "    def print_operations(self):\n",
    "        display(Markdown(\"**Wykonane operacje:**\"))\n",
    "        for op in self.operations:\n",
    "            print(op)\n",
    "\n",
    "    def get_inverse(self):\n",
    "        \"\"\"Zwraca odwrotność macierzy po przeprowadzeniu eliminacji Gaussa-Jordana.\"\"\"\n",
    "        # Sprawdza, czy lewa część rozszerzonej macierzy jest macierzą jednostkową\n",
    "        left_matrix = self.aug_matrix[:, :self.matrix.cols]\n",
    "        if not left_matrix == Matrix.eye(self.matrix.rows):\n",
    "            raise ValueError(\"Macierz nie została zredukowana do macierzy jednostkowej. Kontynuuj operacje.\")\n",
    "        # Zwraca prawą część rozszerzonej macierzy jako odwrotność\n",
    "        inverse_matrix = self.aug_matrix[:, self.matrix.cols:]\n",
    "        display(Markdown(\"**Macierz odwrotna:**\"))\n",
    "        display(Math(latex(inverse_matrix)))\n",
    "        return inverse_matrix\n"
   ]
  },
  {
   "cell_type": "markdown",
   "metadata": {
    "id": "nGUdisK80dj6"
   },
   "source": [
    "**Przykład 1:**"
   ]
  },
  {
   "cell_type": "code",
   "execution_count": null,
   "metadata": {
    "id": "rNE1Z0sF0dj6",
    "outputId": "fea93c4d-f478-4519-86af-7ad85e83e54b"
   },
   "outputs": [
    {
     "data": {
      "text/markdown": [
       "**Początkowa macierz (Starting matrix):**"
      ],
      "text/plain": [
       "<IPython.core.display.Markdown object>"
      ]
     },
     "metadata": {},
     "output_type": "display_data"
    },
    {
     "data": {
      "text/latex": [
       "$\\displaystyle \n",
       "        \\left[\\begin{matrix}2 & 1\\\\5 & 3\\end{matrix}\\right] \n",
       "        \\quad\n",
       "        \\left[\\begin{matrix}1 & 0\\\\0 & 1\\end{matrix}\\right]\n",
       "        $"
      ],
      "text/plain": [
       "<IPython.core.display.Math object>"
      ]
     },
     "metadata": {},
     "output_type": "display_data"
    }
   ],
   "source": [
    "# Tworzenie instancji klasy z macierzą do odwrócenia\n",
    "pierwotna_macierz = [[2, 1], [5, 3]] # Macierz 2x2\n",
    "m = InvertibleMatrix(pierwotna_macierz) # Tworzenie instancji klasy"
   ]
  },
  {
   "cell_type": "code",
   "execution_count": null,
   "metadata": {
    "id": "Teg2xUM60dj7",
    "outputId": "38773c75-3344-4be8-80a3-326bb0dd47e0"
   },
   "outputs": [
    {
     "name": "stdout",
     "output_type": "stream",
     "text": [
      "Macierz odwrotna jest równa:\n"
     ]
    },
    {
     "data": {
      "text/latex": [
       "$\\displaystyle \\left[\\begin{matrix}3 & -1\\\\-5 & 2\\end{matrix}\\right]$"
      ],
      "text/plain": [
       "Matrix([\n",
       "[ 3, -1],\n",
       "[-5,  2]])"
      ]
     },
     "execution_count": 52,
     "metadata": {},
     "output_type": "execute_result"
    }
   ],
   "source": [
    "import sympy as sp # importujemy bibliotekę sympy\n",
    "a=sp.Matrix(pierwotna_macierz) # tworzymy macierz pierwotna_macierz\n",
    "print(\"Macierz odwrotna jest równa:\")\n",
    "a.inv() # wyznaczamy macierz odwrotną"
   ]
  },
  {
   "cell_type": "code",
   "execution_count": null,
   "metadata": {
    "id": "64OX-oPB0dj7",
    "outputId": "bb30fd90-d8f2-4b57-d7ae-05a8ec3cf601"
   },
   "outputs": [
    {
     "data": {
      "text/markdown": [
       "**Operacja (Operation):** w2 = w2 + -5/2*w1"
      ],
      "text/plain": [
       "<IPython.core.display.Markdown object>"
      ]
     },
     "metadata": {},
     "output_type": "display_data"
    },
    {
     "data": {
      "text/latex": [
       "$\\displaystyle \n",
       "        \\left[\\begin{matrix}2 & 1\\\\0 & \\frac{1}{2}\\end{matrix}\\right] \n",
       "        \\quad\n",
       "        \\left[\\begin{matrix}1 & 0\\\\- \\frac{5}{2} & 1\\end{matrix}\\right]\n",
       "        $"
      ],
      "text/plain": [
       "<IPython.core.display.Math object>"
      ]
     },
     "metadata": {},
     "output_type": "display_data"
    }
   ],
   "source": [
    "# Do \"2\" wiersza dodajemy -5/2 razy \"1\" wiersz\n",
    "m.add_row(2, 1, -5/2)"
   ]
  },
  {
   "cell_type": "code",
   "execution_count": null,
   "metadata": {
    "id": "hrsn7fcP0dj7",
    "outputId": "a9158ef9-47c8-4b80-844b-64d72262b2f3"
   },
   "outputs": [
    {
     "data": {
      "text/markdown": [
       "**Operacja (Operation):** w1 = 1/2*w1"
      ],
      "text/plain": [
       "<IPython.core.display.Markdown object>"
      ]
     },
     "metadata": {},
     "output_type": "display_data"
    },
    {
     "data": {
      "text/latex": [
       "$\\displaystyle \n",
       "        \\left[\\begin{matrix}1 & \\frac{1}{2}\\\\0 & \\frac{1}{2}\\end{matrix}\\right] \n",
       "        \\quad\n",
       "        \\left[\\begin{matrix}\\frac{1}{2} & 0\\\\- \\frac{5}{2} & 1\\end{matrix}\\right]\n",
       "        $"
      ],
      "text/plain": [
       "<IPython.core.display.Math object>"
      ]
     },
     "metadata": {},
     "output_type": "display_data"
    }
   ],
   "source": [
    "# Mnożymy \"1\" wiersz przez 1/2\n",
    "m.multiply_row(1, 1/2)"
   ]
  },
  {
   "cell_type": "code",
   "execution_count": null,
   "metadata": {
    "id": "-HiaJrFb0dj7",
    "outputId": "a6adba98-7649-4320-c142-0e2270b3f3f0"
   },
   "outputs": [
    {
     "data": {
      "text/markdown": [
       "**Operacja (Operation):** w1 = w1 + -1*w2"
      ],
      "text/plain": [
       "<IPython.core.display.Markdown object>"
      ]
     },
     "metadata": {},
     "output_type": "display_data"
    },
    {
     "data": {
      "text/latex": [
       "$\\displaystyle \n",
       "        \\left[\\begin{matrix}1 & 0\\\\0 & \\frac{1}{2}\\end{matrix}\\right] \n",
       "        \\quad\n",
       "        \\left[\\begin{matrix}3 & -1\\\\- \\frac{5}{2} & 1\\end{matrix}\\right]\n",
       "        $"
      ],
      "text/plain": [
       "<IPython.core.display.Math object>"
      ]
     },
     "metadata": {},
     "output_type": "display_data"
    }
   ],
   "source": [
    "# Do \"1\" wiersza dodajemy \"2\" wiersz pomnożony przez -1\n",
    "m.add_row(1, 2, -1)"
   ]
  },
  {
   "cell_type": "code",
   "execution_count": null,
   "metadata": {
    "id": "bC8wAddL0dj8",
    "outputId": "2d4322e8-262b-41f5-af53-fc035481b41e"
   },
   "outputs": [
    {
     "data": {
      "text/markdown": [
       "**Operacja (Operation):** w2 = 2*w2"
      ],
      "text/plain": [
       "<IPython.core.display.Markdown object>"
      ]
     },
     "metadata": {},
     "output_type": "display_data"
    },
    {
     "data": {
      "text/latex": [
       "$\\displaystyle \n",
       "        \\left[\\begin{matrix}1 & 0\\\\0 & 1\\end{matrix}\\right] \n",
       "        \\quad\n",
       "        \\left[\\begin{matrix}3 & -1\\\\-5 & 2\\end{matrix}\\right]\n",
       "        $"
      ],
      "text/plain": [
       "<IPython.core.display.Math object>"
      ]
     },
     "metadata": {},
     "output_type": "display_data"
    }
   ],
   "source": [
    "# Mnożymy \"2\" wiersz przez 2\n",
    "m.multiply_row(2, 2)"
   ]
  },
  {
   "cell_type": "markdown",
   "metadata": {
    "id": "VkVZWx4h0dj8"
   },
   "source": [
    " Widzimy, że macierz została obliczona poprawnie!"
   ]
  },
  {
   "cell_type": "markdown",
   "metadata": {
    "id": "L9WM4AbY0dj8"
   },
   "source": [
    "**Przykład 2**"
   ]
  },
  {
   "cell_type": "code",
   "execution_count": 14,
   "metadata": {
    "id": "_hRjJH0j0dj8",
    "outputId": "71173057-d87d-4556-a982-ffeb07724206"
   },
   "outputs": [
    {
     "name": "stdout",
     "output_type": "stream",
     "text": [
      "Odwrotna Macierz:\n",
      "Matrix([[7/4, -3/8, -5/8], [-3, 1, 1], [1/4, -1/8, 1/8]])\n"
     ]
    }
   ],
   "source": [
    "class InvertibleMatrix:\n",
    "    def __init__(self, matrix):\n",
    "        self.matrix = matrix\n",
    "\n",
    "    def invert(self):\n",
    "        sympy_m = sp.Matrix(self.matrix)\n",
    "        return sympy_m.inv()\n",
    "\n",
    "# Macierz 3x3\n",
    "pierwotna_macierz = [[2, 1, 2], [5, 3, 1], [1, 1, 5]]\n",
    "m = InvertibleMatrix(pierwotna_macierz) # Tworzenie instancji klasy\n",
    "odwrotna_macierz = m.invert() # Obliczamy obrocona macierz\n",
    "\n",
    "print(\"Odwrotna Macierz:\")\n",
    "print(odwrotna_macierz)\n"
   ]
  },
  {
   "cell_type": "code",
   "execution_count": 17,
   "metadata": {
    "id": "diHQaK1T0dj8",
    "outputId": "1be1028e-fe84-4e2a-dbd5-2dd8cfa87bc1"
   },
   "outputs": [
    {
     "name": "stdout",
     "output_type": "stream",
     "text": [
      "Odwrotna Macierz:\n",
      "Matrix([[7/4, -3/8, -5/8], [-3, 1, 1], [1/4, -1/8, 1/8]])\n"
     ]
    }
   ],
   "source": [
    "import sympy as sp\n",
    "\n",
    "# Macierz 3x3\n",
    "pierwotna_macierz = [[2, 1, 2], [5, 3, 1], [1, 1, 5]]\n",
    "\n",
    "# Tworzymy macierz sympy\n",
    "sympy_m = sp.Matrix(pierwotna_macierz)\n",
    "\n",
    "# Sprawdzamy, czy macierz jest kwadratowa\n",
    "if sympy_m.rows == sympy_m.cols:\n",
    "    # Wyznaczamy macierz odwrotną\n",
    "    odwrotna = sympy_m.inv()\n",
    "    print(\"Odwrotna Macierz:\")\n",
    "    print(odwrotna)\n",
    "else:\n",
    "    print(\"Macierz nie jest kwadratowa i nie może być odwrócona.\")\n"
   ]
  },
  {
   "cell_type": "code",
   "execution_count": 25,
   "metadata": {
    "id": "kJec1NKt0dj9",
    "outputId": "eeff5599-062d-4258-974a-e3184e5b3ca8"
   },
   "outputs": [
    {
     "name": "stdout",
     "output_type": "stream",
     "text": [
      "Zaktualizowana matryca:\n",
      "[[2, 1, 2], [5, 3, 1], [1, 1, 5], (2, 3, -5)]\n",
      "Macierz nie jest kwadratowa i nie może być odwrócona.\n"
     ]
    }
   ],
   "source": [
    "import sympy as sp\n",
    "\n",
    "class InvertibleMatrix:\n",
    "    def __init__(self, matrix):\n",
    "        self.matrix = matrix\n",
    "\n",
    "    def invert(self):\n",
    "        sympy_m = sp.Matrix(self.matrix)\n",
    "        return sympy_m.inv()\n",
    "\n",
    "    def add_row(self, *new_row):\n",
    "        \n",
    "        self.matrix.append(new_row)\n",
    "\n",
    "# Macierz 3x3\n",
    "pierwotna_macierz = [[2, 1, 2], [5, 3, 1], [1, 1, 5]]\n",
    "m = InvertibleMatrix(pierwotna_macierz) # Tworzenie instancji klasy\n",
    "\n",
    "\n",
    "m.add_row(2, 3, -5)\n",
    "\n",
    "\n",
    "print(\"Zaktualizowana matryca:\")\n",
    "print(m.matrix)\n",
    "\n",
    "\n",
    "sympy_m = sp.Matrix(m.matrix)\n",
    "if sympy_m.rows == sympy_m.cols:\n",
    "    odwrotna = sympy_m.inv()\n",
    "    print(\"Odwrotna Macierz:\")\n",
    "    print(odwrotna)\n",
    "else:\n",
    "    print(\"Macierz nie jest kwadratowa i nie może być odwrócona.\")\n"
   ]
  },
  {
   "cell_type": "code",
   "execution_count": 26,
   "metadata": {
    "id": "tSMwVtfm0dj9",
    "outputId": "752980e2-2bb0-4c50-ac0c-5cb8b49db607"
   },
   "outputs": [],
   "source": [
    "m.add_row(3, 1, -1/2)"
   ]
  },
  {
   "cell_type": "code",
   "execution_count": 29,
   "metadata": {
    "id": "rpf6bT2X0dj9",
    "outputId": "c0ccb0c0-ac9c-40a7-ed53-58fe04da4c9c"
   },
   "outputs": [
    {
     "name": "stdout",
     "output_type": "stream",
     "text": [
      "Оновлена матриця:\n",
      "[[2, 1, 2], [5, 3, 1], [4, 4, 20], (2, 3, -5)]\n",
      "Macierz nie jest kwadratowa i nie może być odwrócona.\n"
     ]
    }
   ],
   "source": [
    "import sympy as sp\n",
    "\n",
    "class InvertibleMatrix:\n",
    "    def __init__(self, matrix):\n",
    "        self.matrix = matrix\n",
    "\n",
    "    def invert(self):\n",
    "        sympy_m = sp.Matrix(self.matrix)\n",
    "        return sympy_m.inv()\n",
    "\n",
    "    def add_row(self, *new_row):\n",
    "        # Додаємо новий рядок до матриці\n",
    "        self.matrix.append(new_row)\n",
    "\n",
    "    def multiply_row(self, row_index, scalar):\n",
    "        # Множимо рядок на скаляр\n",
    "        self.matrix[row_index] = [scalar * element for element in self.matrix[row_index]]\n",
    "\n",
    "# Macierz 3x3\n",
    "pierwotna_macierz = [[2, 1, 2], [5, 3, 1], [1, 1, 5]]\n",
    "m = InvertibleMatrix(pierwotna_macierz)\n",
    "\n",
    "m.add_row(2, 3, -5)\n",
    "\n",
    "# Множимо третій рядок (індекс 2) на 4\n",
    "m.multiply_row(2, 4)\n",
    "\n",
    "# Виводимо оновлену матрицю\n",
    "print(\"Оновлена матриця:\")\n",
    "print(m.matrix)\n",
    "\n",
    "# Створюємо символьну матрицю та обчислюємо обернену матрицю\n",
    "sympy_m = sp.Matrix(m.matrix)\n",
    "if sympy_m.rows == sympy_m.cols:\n",
    "    odwrotna = sympy_m.inv()\n",
    "    print(\"Odwrotna Macierz:\")\n",
    "    print(odwrotna)\n",
    "else:\n",
    "    print(\"Macierz nie jest kwadratowa i nie może być odwrócona.\")\n"
   ]
  },
  {
   "cell_type": "code",
   "execution_count": null,
   "metadata": {
    "id": "6V-YYOA40dj9",
    "outputId": "e0039f4f-ecbc-41f2-f50d-845d9188a08f"
   },
   "outputs": [
    {
     "data": {
      "text/markdown": [
       "**Operacja (Operation):** w3 = w3 + 1*w2"
      ],
      "text/plain": [
       "<IPython.core.display.Markdown object>"
      ]
     },
     "metadata": {},
     "output_type": "display_data"
    },
    {
     "data": {
      "text/latex": [
       "$\\displaystyle \n",
       "        \\left[\\begin{matrix}2 & 1 & 2\\\\0 & -2 & -24\\\\0 & 0 & -8\\end{matrix}\\right] \n",
       "        \\quad\n",
       "        \\left[\\begin{matrix}1 & 0 & 0\\\\0 & 1 & -5\\\\-2 & 1 & -1\\end{matrix}\\right]\n",
       "        $"
      ],
      "text/plain": [
       "<IPython.core.display.Math object>"
      ]
     },
     "metadata": {},
     "output_type": "display_data"
    }
   ],
   "source": [
    "m.add_row(3, 2, 1)"
   ]
  },
  {
   "cell_type": "code",
   "execution_count": null,
   "metadata": {
    "id": "tgOrW-Ix0dj9",
    "outputId": "42d5db64-375c-495f-84ae-f97d55f279af"
   },
   "outputs": [
    {
     "data": {
      "text/markdown": [
       "**Operacja (Operation):** w3 = -1/8*w3"
      ],
      "text/plain": [
       "<IPython.core.display.Markdown object>"
      ]
     },
     "metadata": {},
     "output_type": "display_data"
    },
    {
     "data": {
      "text/latex": [
       "$\\displaystyle \n",
       "        \\left[\\begin{matrix}2 & 1 & 2\\\\0 & -2 & -24\\\\0 & 0 & 1\\end{matrix}\\right] \n",
       "        \\quad\n",
       "        \\left[\\begin{matrix}1 & 0 & 0\\\\0 & 1 & -5\\\\\\frac{1}{4} & - \\frac{1}{8} & \\frac{1}{8}\\end{matrix}\\right]\n",
       "        $"
      ],
      "text/plain": [
       "<IPython.core.display.Math object>"
      ]
     },
     "metadata": {},
     "output_type": "display_data"
    }
   ],
   "source": [
    "m.multiply_row(3, -1/8)"
   ]
  },
  {
   "cell_type": "code",
   "execution_count": null,
   "metadata": {
    "id": "TW0QlIuZ0dj9",
    "outputId": "1d611e27-29af-42a7-ef77-26438feb7bbe"
   },
   "outputs": [
    {
     "data": {
      "text/markdown": [
       "**Operacja (Operation):** w2 = -1/2*w2"
      ],
      "text/plain": [
       "<IPython.core.display.Markdown object>"
      ]
     },
     "metadata": {},
     "output_type": "display_data"
    },
    {
     "data": {
      "text/latex": [
       "$\\displaystyle \n",
       "        \\left[\\begin{matrix}2 & 1 & 2\\\\0 & 1 & 12\\\\0 & 0 & 1\\end{matrix}\\right] \n",
       "        \\quad\n",
       "        \\left[\\begin{matrix}1 & 0 & 0\\\\0 & - \\frac{1}{2} & \\frac{5}{2}\\\\\\frac{1}{4} & - \\frac{1}{8} & \\frac{1}{8}\\end{matrix}\\right]\n",
       "        $"
      ],
      "text/plain": [
       "<IPython.core.display.Math object>"
      ]
     },
     "metadata": {},
     "output_type": "display_data"
    }
   ],
   "source": [
    "m.multiply_row(2, -1/2)"
   ]
  },
  {
   "cell_type": "code",
   "execution_count": null,
   "metadata": {
    "id": "Zebts8Uo0dj9",
    "outputId": "b0c76927-aa08-4ebb-c66e-d77534f30996"
   },
   "outputs": [
    {
     "data": {
      "text/markdown": [
       "**Operacja (Operation):** w2 = w2 + -12*w3"
      ],
      "text/plain": [
       "<IPython.core.display.Markdown object>"
      ]
     },
     "metadata": {},
     "output_type": "display_data"
    },
    {
     "data": {
      "text/latex": [
       "$\\displaystyle \n",
       "        \\left[\\begin{matrix}2 & 1 & 2\\\\0 & 1 & 0\\\\0 & 0 & 1\\end{matrix}\\right] \n",
       "        \\quad\n",
       "        \\left[\\begin{matrix}1 & 0 & 0\\\\-3 & 1 & 1\\\\\\frac{1}{4} & - \\frac{1}{8} & \\frac{1}{8}\\end{matrix}\\right]\n",
       "        $"
      ],
      "text/plain": [
       "<IPython.core.display.Math object>"
      ]
     },
     "metadata": {},
     "output_type": "display_data"
    }
   ],
   "source": [
    "m.add_row(2, 3,-12)"
   ]
  },
  {
   "cell_type": "code",
   "execution_count": null,
   "metadata": {
    "id": "IIuJKg4V0dj9",
    "outputId": "dd0c5209-ff58-442a-c12c-df3a02b23aa8"
   },
   "outputs": [
    {
     "data": {
      "text/markdown": [
       "**Operacja (Operation):** w1 = w1 + -2*w3"
      ],
      "text/plain": [
       "<IPython.core.display.Markdown object>"
      ]
     },
     "metadata": {},
     "output_type": "display_data"
    },
    {
     "data": {
      "text/latex": [
       "$\\displaystyle \n",
       "        \\left[\\begin{matrix}2 & 1 & 0\\\\0 & 1 & 0\\\\0 & 0 & 1\\end{matrix}\\right] \n",
       "        \\quad\n",
       "        \\left[\\begin{matrix}\\frac{1}{2} & \\frac{1}{4} & - \\frac{1}{4}\\\\-3 & 1 & 1\\\\\\frac{1}{4} & - \\frac{1}{8} & \\frac{1}{8}\\end{matrix}\\right]\n",
       "        $"
      ],
      "text/plain": [
       "<IPython.core.display.Math object>"
      ]
     },
     "metadata": {},
     "output_type": "display_data"
    }
   ],
   "source": [
    "m.add_row(1, 3, -2)"
   ]
  },
  {
   "cell_type": "code",
   "execution_count": null,
   "metadata": {
    "id": "1Y6gnQqc0dj9",
    "outputId": "68b62a76-a800-4b80-c7d3-b60527013747"
   },
   "outputs": [
    {
     "data": {
      "text/markdown": [
       "**Operacja (Operation):** w1 = w1 + -1*w2"
      ],
      "text/plain": [
       "<IPython.core.display.Markdown object>"
      ]
     },
     "metadata": {},
     "output_type": "display_data"
    },
    {
     "data": {
      "text/latex": [
       "$\\displaystyle \n",
       "        \\left[\\begin{matrix}2 & 0 & 0\\\\0 & 1 & 0\\\\0 & 0 & 1\\end{matrix}\\right] \n",
       "        \\quad\n",
       "        \\left[\\begin{matrix}\\frac{7}{2} & - \\frac{3}{4} & - \\frac{5}{4}\\\\-3 & 1 & 1\\\\\\frac{1}{4} & - \\frac{1}{8} & \\frac{1}{8}\\end{matrix}\\right]\n",
       "        $"
      ],
      "text/plain": [
       "<IPython.core.display.Math object>"
      ]
     },
     "metadata": {},
     "output_type": "display_data"
    }
   ],
   "source": [
    "m.add_row(1, 2, -1)"
   ]
  },
  {
   "cell_type": "code",
   "execution_count": null,
   "metadata": {
    "id": "2U6zZY8b0dj9",
    "outputId": "270ff955-5467-4231-9646-b8e3f0dfdab4"
   },
   "outputs": [
    {
     "data": {
      "text/markdown": [
       "**Operacja (Operation):** w1 = 1/2*w1"
      ],
      "text/plain": [
       "<IPython.core.display.Markdown object>"
      ]
     },
     "metadata": {},
     "output_type": "display_data"
    },
    {
     "data": {
      "text/latex": [
       "$\\displaystyle \n",
       "        \\left[\\begin{matrix}1 & 0 & 0\\\\0 & 1 & 0\\\\0 & 0 & 1\\end{matrix}\\right] \n",
       "        \\quad\n",
       "        \\left[\\begin{matrix}\\frac{7}{4} & - \\frac{3}{8} & - \\frac{5}{8}\\\\-3 & 1 & 1\\\\\\frac{1}{4} & - \\frac{1}{8} & \\frac{1}{8}\\end{matrix}\\right]\n",
       "        $"
      ],
      "text/plain": [
       "<IPython.core.display.Math object>"
      ]
     },
     "metadata": {},
     "output_type": "display_data"
    }
   ],
   "source": [
    "m.multiply_row(1, 1/2)"
   ]
  },
  {
   "cell_type": "markdown",
   "metadata": {
    "id": "GsdzvRS90dj-"
   },
   "source": [
    "---\n",
    "\n",
    "## Zadania dla studentów\n",
    "\n",
    "Wyznacz macierze odwrotne do macierzy metodą Gaussa:\n",
    "\n",
    "$$\n",
    "A=\n",
    "\\begin{bmatrix}\n",
    "1 & 2\\\\\n",
    "3 & 4\n",
    "\\end{bmatrix}\n",
    ", \\qquad\n",
    "B=\n",
    "\\begin{bmatrix}\n",
    "1 & 2 & 3 \\\\\n",
    "4 & 5 & 1 \\\\\n",
    "2 & 3 & 2\n",
    "\\end{bmatrix}\n",
    ",\\qquad\n",
    "C=\n",
    "\\begin{bmatrix}\n",
    "0&0&1\\\\\n",
    "0&1&0\\\\\n",
    "1&0&0\n",
    "\\end{bmatrix}\n",
    "$$\n",
    "\n"
   ]
  },
  {
   "cell_type": "markdown",
   "metadata": {
    "id": "lxroVouX0dj-"
   },
   "source": [
    "### Macierz $ A $\n",
    "\n",
    "Aby znaleźć macierz odwrotną do $ A $ metodą Gaussa, wykonujemy operacje na macierzy rozszerzonej $ [A | I] $, gdzie $ I $ to macierz jednostkowa.\n",
    "\n",
    "$$\n",
    "[A | I] = \\left[\\begin{array}{cc|cc}\n",
    "1 & 2 & 1 & 0 \\\\\n",
    "3 & 4 & 0 & 1 \\\\\n",
    "\\end{array}\\right]\n",
    "$$\n",
    "\n",
    "1. Odejmujemy 3 razy pierwszy wiersz od drugiego wiersza:\n",
    "\n",
    "$$\n",
    "\\left[\\begin{array}{cc|cc}\n",
    "1 & 2 & 1 & 0 \\\\\n",
    "0 & -2 & -3 & 1 \\\\\n",
    "\\end{array}\\right]\n",
    "$$\n",
    "\n",
    "2. Dzielimy drugi wiersz przez -2:\n",
    "\n",
    "$$\n",
    "\\left[\\begin{array}{cc|cc}\n",
    "1 & 2 & 1 & 0 \\\\\n",
    "0 & 1 & \\frac{3}{2} & -\\frac{1}{2} \\\\\n",
    "\\end{array}\\right]\n",
    "$$\n",
    "\n",
    "3. Odejmujemy 2 razy drugi wiersz od pierwszego wiersza:\n",
    "\n",
    "$$\n",
    "\\left[\\begin{array}{cc|cc}\n",
    "1 & 0 & -2 & 1 \\\\\n",
    "0 & 1 & \\frac{3}{2} & -\\frac{1}{2} \\\\\n",
    "\\end{array}\\right]\n",
    "$$\n",
    "\n",
    "Zatem macierz odwrotna do $ A $ to:\n",
    "\n",
    "$$\n",
    "A^{-1} = \\begin{bmatrix}\n",
    "-2 & 1 \\\\\n",
    "\\frac{3}{2} & -\\frac{1}{2}\n",
    "\\end{bmatrix}\n",
    "$$\n",
    "\n",
    "### Macierz $ B $\n",
    "\n",
    "Podobnie, tworzymy macierz rozszerzoną $ [B | I] $:\n",
    "\n",
    "$$\n",
    "[B | I] = \\left[\\begin{array}{ccc|ccc}\n",
    "1 & 2 & 3 & 1 & 0 & 0 \\\\\n",
    "4 & 5 & 1 & 0 & 1 & 0 \\\\\n",
    "2 & 3 & 2 & 0 & 0 & 1 \\\\\n",
    "\\end{array}\\right]\n",
    "$$\n",
    "\n",
    "1. Odejmujemy 4 razy pierwszy wiersz od drugiego wiersza:\n",
    "\n",
    "$$\n",
    "\\left[\\begin{array}{ccc|ccc}\n",
    "1 & 2 & 3 & 1 & 0 & 0 \\\\\n",
    "0 & -3 & -11 & -4 & 1 & 0 \\\\\n",
    "2 & 3 & 2 & 0 & 0 & 1 \\\\\n",
    "\\end{array}\\right]\n",
    "$$\n",
    "\n",
    "2. Odejmujemy 2 razy pierwszy wiersz od trzeciego wiersza:\n",
    "\n",
    "$$\n",
    "\\left[\\begin{array}{ccc|ccc}\n",
    "1 & 2 & 3 & 1 & 0 & 0 \\\\\n",
    "0 & -3 & -11 & -4 & 1 & 0 \\\\\n",
    "0 & -1 & -4 & -2 & 0 & 1 \\\\\n",
    "\\end{array}\\right]\n",
    "$$\n",
    "\n",
    "3. Dzielimy drugi wiersz przez -3:\n",
    "\n",
    "$$\n",
    "\\left[\\begin{array}{ccc|ccc}\n",
    "1 & 2 & 3 & 1 & 0 & 0 \\\\\n",
    "0 & 1 & \\frac{11}{3} & \\frac{4}{3} & -\\frac{1}{3} & 0 \\\\\n",
    "0 & -1 & -4 & -2 & 0 & 1 \\\\\n",
    "\\end{array}\\right]\n",
    "$$\n",
    "\n",
    "4. Dodajemy drugi wiersz do trzeciego wiersza:\n",
    "\n",
    "$$\n",
    "\\left[\\begin{array}{ccc|ccc}\n",
    "1 & 2 & 3 & 1 & 0 & 0 \\\\\n",
    "0 & 1 & \\frac{11}{3} & \\frac{4}{3} & -\\frac{1}{3} & 0 \\\\\n",
    "0 & 0 & -\\frac{1}{3} & \\frac{2}{3} & -\\frac{1}{3} & 1 \\\\\n",
    "\\end{array}\\right]\n",
    "$$\n",
    "\n",
    "5. Mnożymy trzeci wiersz przez -3:\n",
    "\n",
    "$$\n",
    "\\left[\\begin{array}{ccc|ccc}\n",
    "1 & 2 & 3 & 1 & 0 & 0 \\\\\n",
    "0 & 1 & \\frac{11}{3} & \\frac{4}{3} & -\\frac{1}{3} & 0 \\\\\n",
    "0 & 0 & 1 & -2 & 1 & -3 \\\\\n",
    "\\end{array}\\right]\n",
    "$$\n",
    "\n",
    "6. Odejmujemy $\\frac{11}{3}$ razy trzeci wiersz od drugiego wiersza:\n",
    "\n",
    "$$\n",
    "\\left[\\begin{array}{ccc|ccc}\n",
    "1 & 2 & 3 & 1 & 0 & 0 \\\\\n",
    "0 & 1 & 0 & 8 & -4 & 11 \\\\\n",
    "0 & 0 & 1 & -2 & 1 & -3 \\\\\n",
    "\\end{array}\\right]\n",
    "$$\n",
    "\n",
    "7. Odejmujemy 3 razy trzeci wiersz od pierwszego wiersza:\n",
    "\n",
    "$$\n",
    "\\left[\\begin{array}{ccc|ccc}\n",
    "1 & 2 & 0 & 7 & -3 & 9 \\\\\n",
    "0 & 1 & 0 & 8 & -4 & 11 \\\\\n",
    "0 & 0 & 1 & -2 & 1 & -3 \\\\\n",
    "\\end{array}\\right]\n",
    "$$\n",
    "\n",
    "8. Odejmujemy 2 razy drugi wiersz od pierwszego wiersza:\n",
    "\n",
    "$$\n",
    "\\left[\\begin{array}{ccc|ccc}\n",
    "1 & 0 & 0 & -9 & 5 & -13 \\\\\n",
    "0 & 1 & 0 & 8 & -4 & 11 \\\\\n",
    "0 & 0 & 1 & -2 & 1 & -3 \\\\\n",
    "\\end{array}\\right]\n",
    "$$\n",
    "\n",
    "Zatem macierz odwrotna do $ B $ to:\n",
    "\n",
    "$$\n",
    "B^{-1} = \\begin{bmatrix}\n",
    "-9 & 5 & -13 \\\\\n",
    "8 & -4 & 11 \\\\\n",
    "-2 & 1 & -3\n",
    "\\end{bmatrix}\n",
    "$$\n",
    "\n",
    "### Macierz $ C $\n",
    "\n",
    "Macierz $ C $ jest macierzą permutacyjną, a jej macierz odwrotna jest taka sama jak ona sama, ponieważ permutacja jest odwracalna przez permutację odwrotną.\n",
    "\n",
    "$$\n",
    "C^{-1} = \\begin{bmatrix}\n",
    "0 & 0 & 1 \\\\\n",
    "0 & 1 & 0 \\\\\n",
    "1 & 0 & 0\n",
    "\\end{bmatrix}\n",
    "$$\n",
    "\n",
    "Zatem macierze odwrotne to:\n",
    "\n",
    "$$\n",
    "A^{-1} = \\begin{bmatrix}\n",
    "-2 & 1 \\\\\n",
    "\\frac{3}{2} & -\\frac{1}{2}\n",
    "\\end{bmatrix}, \\quad\n",
    "B^{-1} = \\begin{bmatrix}\n",
    "-9 & 5 & -13 \\\\\n",
    "8 & -4 & 11 \\\\\n",
    "-2 & 1 & -3\n",
    "\\end{bmatrix}, \\quad\n",
    "C^{-1} = \\begin{bmatrix}\n",
    "0 & 0 & 1 \\\\\n",
    "0 & 1 & 0 \\\\\n",
    "1 & 0 & 0\n",
    "\\end{bmatrix}\n",
    "$$"
   ]
  }
 ],
 "metadata": {
  "colab": {
   "provenance": []
  },
  "kernelspec": {
   "display_name": "Python 3",
   "language": "python",
   "name": "python3"
  },
  "language_info": {
   "codemirror_mode": {
    "name": "ipython",
    "version": 3
   },
   "file_extension": ".py",
   "mimetype": "text/x-python",
   "name": "python",
   "nbconvert_exporter": "python",
   "pygments_lexer": "ipython3",
   "version": "3.13.0"
  }
 },
 "nbformat": 4,
 "nbformat_minor": 0
}
