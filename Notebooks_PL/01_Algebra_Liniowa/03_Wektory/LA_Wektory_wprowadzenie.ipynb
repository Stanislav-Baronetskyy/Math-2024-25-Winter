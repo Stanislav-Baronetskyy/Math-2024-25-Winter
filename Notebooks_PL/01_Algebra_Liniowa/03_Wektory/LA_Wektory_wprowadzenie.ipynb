{
 "cells": [
  {
   "cell_type": "markdown",
   "metadata": {},
   "source": [
    "# Wektory - Wprowadzenie\n",
    "\n",
    "**Wektory** są wielkościami, które posiadają zarówno wartość liczbową, jak i kierunek oraz zwrot w przestrzeni. \n",
    "Są one używane do opisu różnych wielkości fizycznych, takich jak prędkość, siła, czy natężenie pola elektrycznego. \n",
    "W przeciwieństwie do skalarów, które mają tylko wartość liczbową (np. masa, temperatura), wektory wymagają określenia kierunku.\n",
    "\n",
    "Wektor oznaczamy strzałką nad symbolem $\\vec{a}$ lub pogrubioną czcionką $\\mathbf{a}$.\n",
    "- Długość wektora można zapisać jako $|\\vec{a}|$ lub $a$.\n",
    "- Wektor o długości 1 nazywa się wektorem jednostkowym (wersorem) i zapisuje się jako $\\hat{\\mathbf{a}}= \\frac{\\vec{a}}{|\\vec{a}|}$.\n",
    "\n",
    "**Przykład:**\n",
    "\n",
    "Wektor $\\mathbf{a}= [3, 4]$ ma długość $a = 5$ i odpowiadający wersor (jednostkowy wektor wzdłuż kierunku wektora $\\mathbf{a}$) wyrażony jest przez $\\hat{\\mathbf{a}} = \\left[\\frac{3}{5}, \\frac{4}{5}\\right]$."
   ]
  },
  {
   "cell_type": "code",
   "execution_count": 1,
   "metadata": {},
   "outputs": [
    {
     "data": {
      "text/latex": [
       "$\\displaystyle \\sqrt{a_{x}^{2} + a_{y}^{2}}$"
      ],
      "text/plain": [
       "sqrt(a_x**2 + a_y**2)"
      ]
     },
     "execution_count": 1,
     "metadata": {},
     "output_type": "execute_result"
    }
   ],
   "source": [
    "import sympy as sp  # importuj moduł sympy\n",
    "\n",
    "# Dla wektora $\\mathbf{a} = [a_x, a_y]$, długość jest podana wzorem: \n",
    "# $$ |\\mathbf{a}| = a = \\sqrt{a_x^2 + a_y^2} $$\n",
    "\n",
    "a_x, a_y = sp.symbols('a_x a_y')  # Krok 1: Zdefiniuj symboliczne zmienne a_x i a_y\n",
    "dlugosc_a = sp.sqrt(a_x**2 + a_y**2)  # Krok 2: Utwórz wzór na długość wektora a\n",
    "dlugosc_a  # Krok 3: Wyświetl wynik"
   ]
  },
  {
   "cell_type": "code",
   "execution_count": 2,
   "metadata": {},
   "outputs": [
    {
     "data": {
      "text/latex": [
       "$\\displaystyle 5.0$"
      ],
      "text/plain": [
       "5.00000000000000"
      ]
     },
     "execution_count": 2,
     "metadata": {},
     "output_type": "execute_result"
    }
   ],
   "source": [
    "# Przypisz wartości dla a_x i a_y\n",
    "a_x = 3  # składowa x wektora\n",
    "a_y = 4  # składowa y wektora\n",
    "\n",
    "dlugosc_a = sp.sqrt(a_x**2 + a_y**2)  # Oblicz długość wektora dla a_x = 3 i a_y = 4\n",
    "dlugosc_a.evalf()  # Oblicz numerycznie długość wektora (oczekiwany wynik: 5)"
   ]
  },
  {
   "cell_type": "markdown",
   "metadata": {},
   "source": [
    "## Dodawanie wektorów\n",
    "\n",
    "Dodawanie wektorów polega na dodaniu współrzędnych wektorów o takiej samej długości.\n",
    "\n",
    "Dla dwóch wektorów $\\mathbf{a}$ i $\\mathbf{b}$ w przestrzeni $\\mathbb{R}^n$, gdzie:\n",
    "\n",
    "$$\n",
    "\\mathbf{a} = [a_1, a_2, \\dots, a_n], \\quad \\mathbf{b} = [b_1, b_2, \\dots, b_n] $$\n",
    "\n",
    "Dodawanie wektorów definiuje się następująco:\n",
    "\n",
    "$$\n",
    "\\mathbf{a} + \\mathbf{b} = [a_1 + b_1, a_2 + b_2, \\dots, a_n + b_n]\n",
    "$$\n",
    "\n",
    "## Mnożenie wektora przez skalar\n",
    "\n",
    "Mnożenie wektora przez skalar polega na pomnożeniu każdej współrzędnej wektora przez tę samą liczbę.\n",
    "\n",
    "Dla wektora $\\mathbf{a}$ i skalaru $k$:\n",
    "\n",
    "$$\n",
    "k \\mathbf{a} = [k a_1, k a_2, \\dots, k a_n]\n",
    "$$"
   ]
  },
  {
   "cell_type": "markdown",
   "metadata": {},
   "source": [
    "## Wektory na płaszczyźnie i w przestrzeni\n",
    "\n",
    "**Wektory w 2D:**\n",
    "\n",
    "Jeśli $\\mathbf{a} = [a_x, a_y]$, to długość jest dana wzorem $|\\mathbf{a}| = a = \\sqrt{a_x^2 + a_y^2}$\n",
    "\n",
    "**Wektory w 3D:**\n",
    "\n",
    "Jeśli $\\mathbf{a} = [a_x, a_y, a_z]$, to długość wektora wynosi $|\\mathbf{a}| = a = \\sqrt{a_x^2 + a_y^2 + a_z^2}$."
   ]
  },
  {
   "cell_type": "markdown",
   "metadata": {},
   "source": [
    "## Wektor na wykresie"
   ]
  },
  {
   "cell_type": "code",
   "execution_count": 3,
   "metadata": {},
   "outputs": [
    {
     "data": {
      "image/png": "[encoded data removed]",
      "text/plain": [
       "<Figure size 640x480 with 1 Axes>"
      ]
     },
     "metadata": {},
     "output_type": "display_data"
    }
   ],
   "source": [
    "import matplotlib.pyplot as plt # import modułu matplotlib.pyplot\n",
    "\n",
    "plt.figure() # utworzenie nowego rysunku\n",
    "plt.quiver(0, 0, 3, 4, angles='xy', scale_units='xy', scale=1, color='r') # szybki sposób na rysowanie wektora quiver(x_początek, y_początek, x_koniec, y_koniec)\n",
    "plt.xlim(0, 5) # ustawienie zakresu osi x\n",
    "plt.ylim(0, 5) # ustawienie zakresu osi y\n",
    "plt.grid(True) # włączenie siatki\n",
    "plt.gca().set_aspect('equal') # ustawienie takiej samej skali na osiach x i y\n",
    "plt.show()"
   ]
  },
  {
   "cell_type": "markdown",
   "metadata": {},
   "source": [
    "## Przykład prostej implementacji wektorów w Pythonie\n",
    "\n",
    "Dane są wektory $\\mathbf{a}=[1, 2]$ i $\\mathbf{b}=[3, 4]$ i chcemy policzyć ich sumę $\\mathbf{c}=\\mathbf{a}+\\mathbf{b}= [1+3, 2+4] = [4, 6]$"
   ]
  },
  {
   "cell_type": "code",
   "execution_count": 4,
   "metadata": {},
   "outputs": [
    {
     "data": {
      "text/plain": [
       "[4, 6]"
      ]
     },
     "execution_count": 4,
     "metadata": {},
     "output_type": "execute_result"
    }
   ],
   "source": [
    "import sympy as sp # importuj moduł sympy\n",
    "\n",
    "a=[1, 2] # wektor a\n",
    "b=[3, 4] # wektor b\n",
    "c = [a[0] + b[0], a[1] + b[1]] # suma wektorów a i b\n",
    "c # wyświetlenie wyniku\n"
   ]
  },
  {
   "cell_type": "markdown",
   "metadata": {},
   "source": [
    "## Przykład lepszej implementacji wektorów w Pythonie\n",
    "\n",
    "Wektory zapisz jako macierze kolumnowe. Wtedy dodawanie wektorów jest takie samo jak dodawanie macierzy."
   ]
  },
  {
   "cell_type": "code",
   "execution_count": 5,
   "metadata": {},
   "outputs": [
    {
     "data": {
      "text/latex": [
       "$\\displaystyle \\left[\\begin{matrix}12\\\\5\\\\18\\end{matrix}\\right]$"
      ],
      "text/plain": [
       "Matrix([\n",
       "[12],\n",
       "[ 5],\n",
       "[18]])"
      ]
     },
     "execution_count": 5,
     "metadata": {},
     "output_type": "execute_result"
    }
   ],
   "source": [
    "import sympy as sp \n",
    "\n",
    "# Definicje wektorów\n",
    "a = sp.Matrix([1, 2, 3])\n",
    "b = sp.Matrix([4, 5, 6])\n",
    "c= sp.Matrix([7, 0, 9])\n",
    "d= sp.Matrix([0, 2, 0])\n",
    "\n",
    "a+b+c-d # OPewna operacja dodawania i odejmowania wektorów"
   ]
  },
  {
   "cell_type": "markdown",
   "metadata": {},
   "source": [
    "## Dodawanie wektorów na wykresie\n",
    "\n",
    "Przykład: $\\mathbf{a}=[2,1]$ i $\\mathbf{b}=[1,2]$ prowadzi do wektora $\\mathbf{c}=\\mathbf{a}+\\mathbf{b}=[3,3]$."
   ]
  },
  {
   "cell_type": "code",
   "execution_count": 6,
   "metadata": {},
   "outputs": [
    {
     "data": {
      "image/png": "[encoded data removed]",
      "text/plain": [
       "<Figure size 640x480 with 1 Axes>"
      ]
     },
     "metadata": {},
     "output_type": "display_data"
    }
   ],
   "source": [
    "import matplotlib.pyplot as plt # import modułu matplotlib.pyplot #przykład dodawania wektorów w przestrzeni dwuwymiarowej\n",
    "\n",
    "plt.figure() # utworzenie nowego rysunku\n",
    "plt.quiver(0, 0, 2, 1, angles='xy', scale_units='xy', scale=1, color='r') # szybki sposób na rysowanie wektorów quiver(x_początek, y_początek, x_koniec, y_koniec)\n",
    "plt.quiver(0, 0, 1, 2, angles='xy', scale_units='xy', scale=1, color='b') # szybki sposób na rysowanie wektorów quiver(x_początek, y_początek, x_koniec, y_koniec)\n",
    "plt.quiver(0, 0, 3, 3, angles='xy', scale_units='xy', scale=1, color='g') # szybki sposób na rysowanie wektorów quiver(x_początek, y_początek, x_koniec, y_koniec)\n",
    "plt.xlim(-1, 4) # ustawienie zakresu osi x\n",
    "plt.ylim(-1, 4) # ustawienie zakresu osi y\n",
    "plt.grid(True) # włączenie siatki\n",
    "plt.gca().set_aspect('equal') # ustawienie takiej samej skali na osiach x i y\n",
    "plt.show()"
   ]
  },
  {
   "cell_type": "markdown",
   "metadata": {},
   "source": [
    "## Układy współrzędnych na płaszczyźnie i w przestrzeni\n",
    "\n",
    "**Układ współrzędnych kartezjańskich** jest podstawowym układem współrzędnych, w którym punkty w przestrzeni są określane przez ich odległości od ustalonych osi: $x$, $y$ (dla 2D) i $z$ (dla 3D). \n",
    "\n",
    "- W 2D, każdy punkt można zapisać jako $(x, y)$.\n",
    "- W 3D, punkty mają postać $(x, y, z)$.\n",
    "\n",
    "**Układ biegunowy** jest używany w 2D i definiuje punkt poprzez odległość od punktu początkowego (r) oraz kąt (θ) względem osi odniesienia.\n",
    "\n",
    "**Układ sferyczny** jest używany w 3D i definiuje punkt poprzez odległość od punktu początkowego (r), kąt azymutu (θ) i kąt elewacji (φ).\n",
    "\n",
    "Wektory można reprezentować za pomocą składowych w układzie kartezjańskim, gdzie każda składowa odpowiada odległości punktu od odpowiedniej osi współrzędnych.\n",
    "\n",
    "- Dla wektora w przestrzeni dwuwymiarowej: $\\mathbf{a} = [a_x, a_y]= a_x\\hat{\\mathbf{i}} + a_y\\hat{\\mathbf{j}}$\n",
    "- Dla wektora w przestrzeni trójwymiarowej:$\\mathbf{a} = [a_x, a_y, a_z] = a_x\\hat{\\mathbf{i}} + a_y\\hat{\\mathbf{j}} + a_z\\hat{\\mathbf{k}}$\n",
    "\n",
    "## Baza\n",
    "\n",
    "**Baza** wektorów to zbiór wektorów, które rozpięcie tworzy przestrzeń wektorową. W przestrzeni kartezjańskiej standardową bazą są wektory $\\hat{\\mathbf{i}}, \\hat{\\mathbf{j}}, \\hat{\\mathbf{k}}$.\n",
    "\n",
    "Dla 2D:\n",
    "\n",
    "$$\n",
    "\\hat{\\mathbf{i}} = [1, 0], \\quad \\hat{\\mathbf{j}} = [0, 1]\n",
    "$$\n",
    "\n",
    "Dla 3D:\n",
    "\n",
    "$$\n",
    "\\hat{\\mathbf{i}} = [1, 0, 0], \\quad \\hat{\\mathbf{j}} = [0, 1, 0], \\quad \\hat{\\mathbf{k}} = [0, 0, 1]\n",
    "$$\n",
    "\n",
    "Tak zdefiniowane wektory bazowe są jednostkowe i prostopadłe do siebie.\n",
    "\n",
    "### Znajdowanie współrzędnych wektora w nowej bazie\n",
    "\n",
    "Aby znaleźć współrzędne wektora $\\mathbf{v}$ w nowej bazie $\\{\\mathbf{b_1}, \\mathbf{b_2}, \\mathbf{b_3}\\}$, należy wyrazić $\\mathbf{v}$ jako kombinację liniową wektorów bazy.\n",
    "\n",
    "$$\n",
    "\\mathbf{v} = c_1 \\mathbf{b_1} + c_2 \\mathbf{b_2} + c_3 \\mathbf{b_3}\n",
    "$$\n",
    "\n",
    "Współczynniki $c_1, c_2, c_3$ są współrzędnymi wektora $\\mathbf{v}$ w nowej bazie."
   ]
  },
  {
   "cell_type": "markdown",
   "metadata": {},
   "source": [
    "---\n",
    "\n",
    "## Zadania dla studentów\n",
    "\n",
    "A. Przez jaką liczbę należy pomnożyć wektor $\\mathbf{a} = [3, 4]$, aby jego długość była równa 1?\n",
    "\n",
    "B. Policz długość wektora $\\mathbf{b} = [1, 1]$ i znajdź wersor tego wektora. \n",
    "\n",
    "C. Zaprezentuj wektor i wersor z poprzedniego zadania na wykresie.\n",
    "\n",
    "D. Policz długość wektora $\\mathbf{c} = [1, 2, 3]$ i znajdź wersor tego wektora.\n",
    "\n",
    "E. Znajdź współrzędne kartezjańskiego wektora $\\mathbf{v} = [2, 3, 4]$ w bazie $\\{\\mathbf{b_1} = [1, 0, 1], \\mathbf{b_2} = [0, 1, 0], \\mathbf{b_3} = [1, 0, -1]\\}$."
   ]
  },
  {
   "cell_type": "markdown",
   "metadata": {},
   "source": [
    "### Zadanie A: Przez jaką liczbę należy pomnożyć wektor $ \\mathbf{a} = [3, 4] $, aby jego długość była równa 1?\n",
    "\n",
    "Najpierw obliczamy długość wektora $ \\mathbf{a} $:\n",
    "$$\n",
    "\\|\\mathbf{a}\\| = \\sqrt{3^2 + 4^2} = \\sqrt{9 + 16} = \\sqrt{25} = 5\n",
    "$$\n",
    "\n",
    "Aby wektor miał długość 1, należy go pomnożyć przez odwrotność jego długości:\n",
    "$$\n",
    "\\mathbf{a}_{\\text{unit}} = \\frac{1}{\\|\\mathbf{a}\\|} \\mathbf{a} = \\frac{1}{5} [3, 4] = \\left[ \\frac{3}{5}, \\frac{4}{5} \\right]\n",
    "$$\n",
    "\n",
    "### Zadanie B: Policz długość wektora $ \\mathbf{b} = [1, 1] $ i znajdź wersor tego wektora.\n",
    "\n",
    "Długość wektora $ \\mathbf{b} $:\n",
    "$$\n",
    "\\|\\mathbf{b}\\| = \\sqrt{1^2 + 1^2} = \\sqrt{1 + 1} = \\sqrt{2}\n",
    "$$\n",
    "\n",
    "Wersor wektora $ \\mathbf{b} $:\n",
    "$$\n",
    "\\mathbf{b}_{\\text{unit}} = \\frac{1}{\\|\\mathbf{b}\\|} \\mathbf{b} = \\frac{1}{\\sqrt{2}} [1, 1] = \\left[ \\frac{1}{\\sqrt{2}}, \\frac{1}{\\sqrt{2}} \\right] = \\left[ \\frac{\\sqrt{2}}{2}, \\frac{\\sqrt{2}}{2} \\right]\n",
    "$$\n",
    "\n",
    "### Zadanie C: Zaprezentuj wektor i wersor z poprzedniego zadania na wykresie.\n",
    "\n",
    "Na wykresie przedstawiamy wektor $ \\mathbf{b} = [1, 1] $ oraz jego wersor $ \\mathbf{b}_{\\text{unit}} = \\left[ \\frac{\\sqrt{2}}{2}, \\frac{\\sqrt{2}}{2} \\right] $.\n",
    "\n",
    "### Zadanie D: Policz długość wektora $ \\mathbf{c} = [1, 2, 3] $ i znajdź wersor tego wektora.\n",
    "\n",
    "Długość wektora $ \\mathbf{c} $:\n",
    "$$\n",
    "\\|\\mathbf{c}\\| = \\sqrt{1^2 + 2^2 + 3^2} = \\sqrt{1 + 4 + 9} = \\sqrt{14}\n",
    "$$\n",
    "\n",
    "Wersor wektora $ \\mathbf{c} $:\n",
    "$$\n",
    "\\mathbf{c}_{\\text{unit}} = \\frac{1}{\\|\\mathbf{c}\\|} \\mathbf{c} = \\frac{1}{\\sqrt{14}} [1, 2, 3] = \\left[ \\frac{1}{\\sqrt{14}}, \\frac{2}{\\sqrt{14}}, \\frac{3}{\\sqrt{14}} \\right]\n",
    "$$\n",
    "\n",
    "### Zadanie E: Znajdź współrzędne kartezjańskiego wektora $ \\mathbf{v} = [2, 3, 4] $ w bazie $ \\{\\mathbf{b_1} = [1, 0, 1], \\mathbf{b_2} = [0, 1, 0], \\mathbf{b_3} = [1, 0, -1]\\} $.\n",
    "\n",
    "Najpierw zapisujemy wektor $ \\mathbf{v} $ jako kombinację liniową wektorów bazy:\n",
    "$$\n",
    "\\mathbf{v} = x \\mathbf{b_1} + y \\mathbf{b_2} + z \\mathbf{b_3}\n",
    "$$\n",
    "\n",
    "Rozpisujemy równanie:\n",
    "$$\n",
    "[2, 3, 4] = x [1, 0, 1] + y [0, 1, 0] + z [1, 0, -1]\n",
    "$$\n",
    "\n",
    "Rozkładamy na układ równań:\n",
    "$$\n",
    "\\begin{cases}\n",
    "x + z = 2 \\\\\n",
    "y = 3 \\\\\n",
    "x - z = 4\n",
    "\\end{cases}\n",
    "$$\n",
    "\n",
    "Rozwiązujemy układ równań:\n",
    "$$\n",
    "\\begin{cases}\n",
    "x + z = 2 \\\\\n",
    "x - z = 4\n",
    "\\end{cases}\n",
    "$$\n",
    "\n",
    "Dodajemy równania:\n",
    "$$\n",
    "2x = 6 \\implies x = 3\n",
    "$$\n",
    "\n",
    "Podstawiamy $ x $ do pierwszego równania:\n",
    "$$\n",
    "3 + z = 2 \\implies z = -1\n",
    "$$\n",
    "\n",
    "Zatem współrzędne wektora $ \\mathbf{v} $ w bazie $ \\{\\mathbf{b_1}, \\mathbf{b_2}, \\mathbf{b_3}\\} $ to:\n",
    "$$\n",
    "\\mathbf{v} = 3 \\mathbf{b_1} + 3 \\mathbf{b_2} - 1 \\mathbf{b_3}\n",
    "$$\n",
    "\n",
    "Współrzędne to $ [3, 3, -1] $."
   ]
  }
 ],
 "metadata": {
  "kernelspec": {
   "display_name": "Python 3",
   "language": "python",
   "name": "python3"
  },
  "language_info": {
   "codemirror_mode": {
    "name": "ipython",
    "version": 3
   },
   "file_extension": ".py",
   "mimetype": "text/x-python",
   "name": "python",
   "nbconvert_exporter": "python",
   "pygments_lexer": "ipython3",
   "version": "3.13.0"
  }
 },
 "nbformat": 4,
 "nbformat_minor": 2
}
