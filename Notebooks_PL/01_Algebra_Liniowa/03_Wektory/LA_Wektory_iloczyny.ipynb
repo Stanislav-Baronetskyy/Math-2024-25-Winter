{
 "cells": [
  {
   "cell_type": "markdown",
   "metadata": {
    "id": "xnixTvRK0YWT"
   },
   "source": [
    "# Wektory - Iloczyn skalarny, wektorowy, mieszany"
   ]
  },
  {
   "cell_type": "markdown",
   "metadata": {
    "id": "vQ8QkIB90YWV"
   },
   "source": [
    "\n",
    "## Iloczyn skalarny\n",
    "\n",
    "Iloczyn skalarny (zwany również iloczynem wewnętrznym) dwóch wektorów to operacja, która zwraca skalarną wartość. Jest definiowany jako suma iloczynów odpowiadających sobie współrzędnych dwóch wektorów.\n",
    "\n",
    "Dla dwóch wektorów $\\mathbf{a}$ i $\\mathbf{b}$ w przestrzeni $\\mathbb{R}^n$, gdzie:\n",
    "\n",
    "$$\n",
    "\\mathbf{a} = [a_1, a_2, \\dots, a_n], \\quad \\mathbf{b} = [b_1, b_2, \\dots, b_n]\n",
    "$$\n",
    "\n",
    "Iloczyn skalarny definiuje się następująco:\n",
    "\n",
    "$$\n",
    "\\mathbf{a} \\cdot \\mathbf{b} = a_1b_1 + a_2b_2 + \\dots + a_nb_n = \\sum_{i=1}^{n} a_i b_i\n",
    "$$\n",
    "\n",
    "Przykład dla przestrzeni trójwymiarowej ($ \\mathbb{R}^3 $):\n",
    "\n",
    "Dla wektorów $\\mathbf{a} = [a_1, a_2, a_3]$ oraz $\\mathbf{b} = [b_1, b_2, b_3]$, iloczyn skalarny to:\n",
    "\n",
    "$$\n",
    "\\mathbf{a} \\cdot \\mathbf{b} = a_1b_1 + a_2b_2 + a_3b_3\n",
    "$$\n",
    "\n",
    "Iloczyn skalarny zwraca liczbę, która jest miarą \"podobieństwa kierunku\" dwóch wektorów. Jeśli $\\mathbf{a} \\cdot \\mathbf{b} = 0$, to wektory są prostopadłe.\n",
    "\n",
    "Alternatywnie, iloczyn skalarny można zapisać jako:\n",
    "\n",
    "$$\n",
    "\\mathbf{a} \\cdot \\mathbf{b} = \\|\\mathbf{a}\\| \\|\\mathbf{b}\\| \\cos(\\theta),\n",
    "$$\n",
    "czyli iloczyn długości wektorów $\\mathbf{a}$ i $\\mathbf{b}$ pomnożony przez cosinus kąta między nimi."
   ]
  },
  {
   "cell_type": "markdown",
   "metadata": {
    "id": "4XUC47nT0YWW"
   },
   "source": [
    "## Iloczyn wektorowy\n",
    "\n",
    "Iloczyn wektorowy (zwany również iloczynem zewnętrznym) to operacja, która zwraca nowy wektor prostopadły do dwóch wektorów wyjściowych. Jest zdefiniowany tylko w przestrzeni trójwymiarowej $ \\mathbb{R}^3 $.\n",
    "\n",
    "Dla dwóch wektorów $ \\mathbf{a} = [a_1, a_2, a_3] $ oraz $ \\mathbf{b} = [b_1, b_2, b_3] $, iloczyn wektorowy $ \\mathbf{a} \\times \\mathbf{b} $ definiuje się jako:\n",
    "\n",
    "$$ \\mathbf{a} \\times \\mathbf{b} =\n",
    "\\begin{vmatrix}\n",
    "\\mathbf{i} & \\mathbf{j} & \\mathbf{k} \\\\\n",
    "a_1 & a_2 & a_3 \\\\\n",
    "b_1 & b_2 & b_3\n",
    "\\end{vmatrix}\n",
    "$$\n",
    "\n",
    "Gdzie $ \\mathbf{i}, \\mathbf{j}, \\mathbf{k} $ to wektory jednostkowe wzdłuż osi $ x, y, z $. Dość zabawnie, aby policzyć iloczyny wektorowy i otrzymać finalny wektor używamy wyznacznika (skalara) z macierzy (tensor drugiego rzędu), wierszami której są wektory bazowe (wektory) i składowe wektorów (skalary).\n",
    "\n",
    "Iloczyn wektorowy można zapisać w postaci rozwiniętej:\n",
    "\n",
    "$$ \\mathbf{a} \\times \\mathbf{b} = \\left( a_2b_3 - a_3b_2 \\right)\\mathbf{i} - \\left( a_1b_3 - a_3b_1 \\right)\\mathbf{j} + \\left( a_1b_2 - a_2b_1 \\right)\\mathbf{k} $$\n",
    "\n",
    "Wynikiem iloczynu wektorowego jest nowy wektor:\n",
    "\n",
    "$$ \\mathbf{c} = \\mathbf{a} \\times \\mathbf{b} = [a_2b_3 - a_3b_2, a_3b_1 - a_1b_3, a_1b_2 - a_2b_1] $$\n",
    "\n",
    "Iloczyn wektorowy zwraca wektor $\\mathbf{c}$ prostopadły do płaszczyzny wyznaczonej przez $ \\mathbf{a} $ i $ \\mathbf{b} $, a jego długość jest równa powierzchni równoległoboku, którego boki są wyznaczone przez wektory $ \\mathbf{a} $ i $ \\mathbf{b} $\n",
    "$$\n",
    "|\\mathbf{c}| = |\\mathbf{a}| |\\mathbf{b}| \\sin \\theta\n",
    "$$\n",
    "\n",
    "gdzie $\\theta$ jest kątem między wektorami. Kierunek wektora $\\vec{c}$ określa reguła prawej dłoni."
   ]
  },
  {
   "cell_type": "markdown",
   "metadata": {
    "id": "QNZye6SF0YWW"
   },
   "source": [
    "## Iloczyn mieszany\n",
    "\n",
    "Iloczyn mieszany trzech wektorów $\\mathbf{a}, \\mathbf{b}, \\mathbf{c}$ jest definiowany jako:\n",
    "\n",
    "$$\n",
    "\\mathbf{a} \\cdot \\left( \\mathbf{b} \\times \\mathbf{c} \\right)\n",
    "$$\n",
    "\n",
    "Jest to równoważne iloczynowi skalarnemu $\\mathbf{a} \\times \\left( \\mathbf{b} \\times \\mathbf{c} \\right)$.\n",
    "\n",
    "Iloczyn mieszany jest równy zero, jeśli wektory $\\mathbf{a}, \\mathbf{b}, \\mathbf{c}$ są współliniowe lub równoległe.\n",
    "\n",
    "Objętość równoległościanu wyznaczonego przez trzy wektory $\\mathbf{a}, \\mathbf{b}, \\mathbf{c}$ jest równa wartości bezwzględnej iloczynu mieszanej tych wektorów."
   ]
  },
  {
   "cell_type": "markdown",
   "metadata": {
    "id": "26LtlvpJ0YWW"
   },
   "source": [
    "## Implementacja"
   ]
  },
  {
   "cell_type": "code",
   "execution_count": 2,
   "metadata": {
    "colab": {
     "base_uri": "https://localhost:8080/",
     "height": 545
    },
    "id": "krYtUDs91iNM",
    "outputId": "feb83b4c-31ea-4e50-cfd6-faa796b621f9"
   },
   "outputs": [
    {
     "name": "stderr",
     "output_type": "stream",
     "text": [
      "Matplotlib is building the font cache; this may take a moment.\n"
     ]
    },
    {
     "data": {
      "image/png": "[encoded data removed]",
      "text/plain": [
       "<Figure size 600x600 with 1 Axes>"
      ]
     },
     "metadata": {},
     "output_type": "display_data"
    }
   ],
   "source": [
    "import matplotlib.pyplot as plt\n",
    "import numpy as np\n",
    "\n",
    "# Визначення векторів\n",
    "v1 = np.array([2, 1])\n",
    "v2 = np.array([-1, 1])\n",
    "v3 = v1 + v2  # Сума векторів\n",
    "\n",
    "# Побудова графіка\n",
    "plt.figure(figsize=(6, 6))\n",
    "plt.arrow(0, 0, v1[0], v1[1], head_width=0.05, head_length=0.1, fc='blue', ec='blue')\n",
    "plt.arrow(0, 0, v2[0], v2[1], head_width=0.05, head_length=0.1, fc='red', ec='red')\n",
    "plt.arrow(0, 0, v3[0], v3[1], head_width=0.05, head_length=0.1, fc='green', ec='green')\n",
    "\n",
    "# Додавання підписів\n",
    "plt.text(v1[0], v1[1], 'v1', fontsize=12)\n",
    "plt.text(v2[0], v2[1], 'v2', fontsize=12)\n",
    "plt.text(v3[0], v3[1], 'v1 + v2', fontsize=12)\n",
    "\n",
    "plt.xlim([-2, 3])\n",
    "plt.ylim([-1, 3])\n",
    "plt.grid(True)\n",
    "plt.title('Додавання векторів')\n",
    "plt.show()"
   ]
  },
  {
   "cell_type": "code",
   "execution_count": 3,
   "metadata": {
    "colab": {
     "base_uri": "https://localhost:8080/"
    },
    "id": "yNAOxvTa3GuY",
    "outputId": "3bc97d15-abea-42d6-c402-1a287401f405"
   },
   "outputs": [
    {
     "name": "stdout",
     "output_type": "stream",
     "text": [
      "Pole trójkąta: 1.5\n"
     ]
    },
    {
     "name": "stderr",
     "output_type": "stream",
     "text": [
      "/var/folders/0r/fmmj4m3s5yl17c9v6wpy8m7h0000gn/T/ipykernel_84079/967458874.py:6: DeprecationWarning: Arrays of 2-dimensional vectors are deprecated. Use arrays of 3-dimensional vectors instead. (deprecated in NumPy 2.0)\n",
      "  area = 0.5 * np.abs(np.cross(v1, v2))\n"
     ]
    }
   ],
   "source": [
    "import numpy as np\n",
    "\n",
    "v1 = np.array([2, 1])\n",
    "v2 = np.array([-1, 1])\n",
    "\n",
    "area = 0.5 * np.abs(np.cross(v1, v2))\n",
    "print(f\"Pole trójkąta: {area}\")"
   ]
  },
  {
   "cell_type": "code",
   "execution_count": 4,
   "metadata": {
    "colab": {
     "base_uri": "https://localhost:8080/"
    },
    "id": "GMYu0N9b3QUJ",
    "outputId": "f538a2d4-6b49-4062-e572-245785738508"
   },
   "outputs": [
    {
     "name": "stdout",
     "output_type": "stream",
     "text": [
      "Objętość równoległościanu: 0\n"
     ]
    }
   ],
   "source": [
    "import numpy as np\n",
    "\n",
    "v1 = np.array([2, 1, 0])  # Dodajemy z-component 0\n",
    "v2 = np.array([-1, 1, 0]) # Dodajemy z-component 0\n",
    "v3 = np.array([1, 2, 0])  # Dodajemy z-component 0\n",
    "\n",
    "volume = np.abs(np.dot(v1, np.cross(v2, v3)))\n",
    "print(f\"Objętość równoległościanu: {volume}\")"
   ]
  },
  {
   "cell_type": "code",
   "execution_count": 5,
   "metadata": {
    "colab": {
     "base_uri": "https://localhost:8080/"
    },
    "id": "RO2_cBCF3T1L",
    "outputId": "92898166-c3a5-4782-e3f4-d65ea7e9b3af"
   },
   "outputs": [
    {
     "name": "stdout",
     "output_type": "stream",
     "text": [
      "Wektory nie są prostopadłe.\n"
     ]
    }
   ],
   "source": [
    "import numpy as np\n",
    "\n",
    "v1 = np.array([2, 1])\n",
    "v2 = np.array([-1, 1])\n",
    "\n",
    "dot_product = np.dot(v1, v2)\n",
    "\n",
    "if dot_product == 0:\n",
    "    print(\"Wektory są prostopadłe.\")\n",
    "else:\n",
    "    print(\"Wektory nie są prostopadłe.\")"
   ]
  },
  {
   "cell_type": "markdown",
   "metadata": {
    "id": "PNHHGlXL0YWY"
   },
   "source": [
    "## Zastosowania\n",
    "\n",
    "### Obliczanie kąta między wektorami\n",
    "\n",
    "$$\n",
    "\\cos \\theta = \\frac{\\mathbf{a} \\cdot \\mathbf{b}}{\\|\\mathbf{a}\\| \\|\\mathbf{b}\\|}\n",
    "$$\n",
    "\n",
    "### Sprawdzanie prostopadłości wektorów\n",
    "\n",
    "Wektory $\\mathbf{a}$ i $\\mathbf{b}$ są prostopadłe, jeśli ich iloczyn skalarny wynosi zero:\n",
    "$$\n",
    "\\mathbf{a} \\cdot \\mathbf{b} = 0\n",
    "\\quad \\Leftrightarrow \\quad\n",
    " \\mathbf{a} \\perp \\mathbf{b}\n",
    "$$\n",
    "\n",
    "### Znajdowanie rzutów wektorów na inne wektory\n",
    "\n",
    "$$\n",
    "\\text{Rzut} = \\frac{\\mathbf{a} \\cdot \\mathbf{b}}{\\|\\mathbf{b}\\|}\n",
    "$$\n",
    "\n",
    "### Obliczanie pracy wykonanej przez siłę w fizyce\n",
    "\n",
    "Dla siły $\\mathbf{F} = (F_x, F_y, F_z)$ działającej wzdłuż przemieszczenia $\\mathbf{d} = (d_x, d_y, d_z)$, praca obliczana jest zgodnie ze wzorem:\n",
    "\n",
    "$$\n",
    "W = \\mathbf{F} \\cdot \\mathbf{d} = |\\mathbf{F}| |\\mathbf{d}| \\cos \\theta = F_x d_x + F_y d_y + F_z d_z\n",
    "$$"
   ]
  },
  {
   "cell_type": "markdown",
   "metadata": {
    "id": "mkW8aPI60YWY"
   },
   "source": [
    "### Moment siły\n",
    "\n",
    "W fizyce: moment siły (moment obrotowy) to iloczyn wektorowy wektora siły i ramienia:\n",
    "\n",
    "$$\n",
    "\\mathbf{M} = \\mathbf{r} \\times \\mathbf{F}\n",
    "$$\n",
    "\n",
    "### Obliczanie pola równoległoboku\n",
    "\n",
    "Pole równoległoboku rozpiętego na dwóch wektorach:\n",
    "\n",
    "$$\n",
    "\\text{Area}_{r} = \\mathbf{a} \\times \\mathbf{b} = |\\mathbf{a}| |\\mathbf{b}| \\sin \\theta\n",
    "$$\n",
    "\n",
    "### Obliczanie pola trójkąta\n",
    "\n",
    "Pole trójkąta rozpiętego na dwóch wektorach $\\mathbf{a}$ i $\\mathbf{b}$:\n",
    "\n",
    "$$\n",
    "\\text{Area}_{t} = \\frac{1}{2} |\\mathbf{a} \\times \\mathbf{b}|\n",
    "$$"
   ]
  },
  {
   "cell_type": "markdown",
   "metadata": {
    "id": "mzqpSL0k0YWY"
   },
   "source": [
    "### Obliczanie objętości równoległościanów i czworościanów\n",
    "\n",
    "Iloczyn mieszany wektorów jest używany do obliczania objętości równoległościanów i czworościanów. Dla trzech wektorów **$\\mathbf{a}$**, **$\\mathbf{b}$** i **$\\mathbf{c}$**, objętość równoległościanu jest dana wzorem:\n",
    "\n",
    "$$\n",
    "V = |\\mathbf{a} \\cdot (\\mathbf{b} \\times \\mathbf{c})|\n",
    "$$\n",
    "(Uwaga: **| |** oznacza tutaj wartość bezwzględną, a nie długość!)\n",
    "\n",
    "### Sprawdzanie współpłaszczyznowości trzech wektorów\n",
    "\n",
    "Jeśli iloczyn mieszany trzech wektorów jest równy zeru, oznacza to, że wektory są współpłaszczyznowe. W przeciwnym razie, tworzą one czworościan."
   ]
  },
  {
   "cell_type": "markdown",
   "metadata": {
    "id": "9sQhQDA-0YWZ"
   },
   "source": [
    "---\n",
    "\n",
    "## Zadania dla studentów\n",
    "\n",
    "A. Zrealizuj dodawanie wektora $[2, 1]$ do wektora $[-1, 1]$. Zaznacz oba wektory oraz ich sumę na wykresie.\n",
    "\n",
    "B. Policz pole trójkąta rozpiętego na wektorach $[2, 1]$ i $[-1, 1]$.\n",
    "\n",
    "C. Policz objętość równoległościanu rozpiętego na wektorach $[2, 1]$, $[-1, 1]$ i $[1, 2]$.\n",
    "\n",
    "D. Sprawdź, czy wektory $[2, 1]$ i $[-1, 1]$ są prostopadłe.\n",
    "\n",
    "E. Policz kąt w stopniach między wektorami $[4,2,1]$ a $[1,3,2]$.\n",
    "\n",
    "F. Dla wektorów trójwymiarowych: $\\mathbf{a}=[a_x, a_y, a_z]$, $\\mathbf{b}=[b_x, b_y, b_z]$, $\\mathbf{c}=[c_x, c_y, c_z]$, udowodnij, że spełniona jest tożsamość:\n",
    "\n",
    "$$\n",
    "\\mathbf{a} \\times (\\mathbf{b} \\times \\mathbf{c}) = (\\mathbf{a} \\cdot \\mathbf{c}) \\mathbf{b} - (\\mathbf{a} \\cdot \\mathbf{b}) \\mathbf{c}.\n",
    "$$"
   ]
  },
  {
   "cell_type": "markdown",
   "metadata": {
    "id": "vi5DBZEq0YWZ"
   },
   "source": [
    "\n",
    "\n",
    "### Zadanie A\n",
    "\n",
    "Dodajmy wektory $[2, 1]$ i $[-1, 1]$:\n",
    "$$ \\mathbf{u} = [2, 1] $$\n",
    "$$ \\mathbf{v} = [-1, 1] $$\n",
    "$$ \\mathbf{u} + \\mathbf{v} = [2 + (-1), 1 + 1] = [1, 2] $$\n",
    "\n",
    "### Zadanie B\n",
    "\n",
    "Policzmy pole trójkąta rozpiętego na wektorach $[2, 1]$ i $[-1, 1]$. Pole trójkąta można obliczyć jako połowę wartości bezwzględnej wyznacznika macierzy utworzonej z tych wektorów:\n",
    "$$ \\mathbf{u} = [2, 1] $$\n",
    "$$ \\mathbf{v} = [-1, 1] $$\n",
    "$$ \\text{Pole} = \\frac{1}{2} \\left| \\begin{vmatrix} 2 & -1 \\\\ 1 & 1 \\end{vmatrix} \\right| $$\n",
    "$$ \\text{Pole} = \\frac{1}{2} \\left| (2 \\cdot 1) - (-1 \\cdot 1) \\right| $$\n",
    "$$ \\text{Pole} = \\frac{1}{2} \\left| 2 + 1 \\right| $$\n",
    "$$ \\text{Pole} = \\frac{1}{2} \\cdot 3 $$\n",
    "$$ \\text{Pole} = \\frac{3}{2} $$\n",
    "\n",
    "### Zadanie C\n",
    "\n",
    "Policzmy objętość równoległościanu rozpiętego na wektorach $[2, 1]$, $[-1, 1]$ i $[1, 2]$. Objętość równoległościanu można obliczyć jako wartość bezwzględną wyznacznika macierzy utworzonej z tych wektorów:\n",
    "$$ \\mathbf{u} = [2, 1, 0] $$\n",
    "$$ \\mathbf{v} = [-1, 1, 0] $$\n",
    "$$ \\mathbf{w} = [1, 2, 0] $$\n",
    "$$ \\text{Objętość} = \\left| \\begin{vmatrix} 2 & -1 & 1 \\\\ 1 & 1 & 2 \\\\ 0 & 0 & 0 \\end{vmatrix} \\right| $$\n",
    "\n",
    "Ponieważ trzecia kolumna macierzy składa się z samych zer, wyznacznik tej macierzy wynosi 0, co oznacza, że objętość równoległościanu wynosi 0.\n",
    "\n",
    "### Zadanie D\n",
    "\n",
    "Sprawdźmy, czy wektory $[2, 1]$ i $[-1, 1]$ są prostopadłe. Wektory są prostopadłe, jeśli ich iloczyn skalarny wynosi 0:\n",
    "$$ \\mathbf{u} \\cdot \\mathbf{v} = 2 \\cdot (-1) + 1 \\cdot 1 $$\n",
    "$$ \\mathbf{u} \\cdot \\mathbf{v} = -2 + 1 $$\n",
    "$$ \\mathbf{u} \\cdot \\mathbf{v} = -1 $$\n",
    "\n",
    "Ponieważ iloczyn skalarny wynosi -1, wektory nie są prostopadłe.\n",
    "\n",
    "### Zadanie E\n",
    "\n",
    "Policzmy kąt w stopniach między wektorami $[4, 2, 1]$ a $[1, 3, 2]$. Kąt między wektorami można obliczyć za pomocą wzoru:\n",
    "$$ \\cos \\theta = \\frac{\\mathbf{a} \\cdot \\mathbf{b}}{|\\mathbf{a}| |\\mathbf{b}|} $$\n",
    "\n",
    "Najpierw obliczmy iloczyn skalarny:\n",
    "$$ \\mathbf{a} \\cdot \\mathbf{b} = 4 \\cdot 1 + 2 \\cdot 3 + 1 \\cdot 2 $$\n",
    "$$ \\mathbf{a} \\cdot \\mathbf{b} = 4 + 6 + 2 $$\n",
    "$$ \\mathbf{a} \\cdot \\mathbf{b} = 12 $$\n",
    "\n",
    "Następnie obliczmy długości wektorów:\n",
    "$$ |\\mathbf{a}| = \\sqrt{4^2 + 2^2 + 1^2} = \\sqrt{16 + 4 + 1} = \\sqrt{21} $$\n",
    "$$ |\\mathbf{b}| = \\sqrt{1^2 + 3^2 + 2^2} = \\sqrt{1 + 9 + 4} = \\sqrt{14} $$\n",
    "\n",
    "Teraz możemy obliczyć kąt:\n",
    "$$ \\cos \\theta = \\frac{12}{\\sqrt{21} \\cdot \\sqrt{14}} = \\frac{12}{\\sqrt{294}} $$\n",
    "$$ \\theta = \\cos^{-1} \\left( \\frac{12}{\\sqrt{294}} \\right) $$\n",
    "\n",
    "Obliczmy wartość kąta w stopniach:\n",
    "$$ \\theta \\approx \\cos^{-1} \\left( \\frac{12}{\\sqrt{294}} \\right) \\approx 33.69^\\circ $$\n",
    "\n",
    "### Zadanie F\n",
    "\n",
    "Udowodnijmy tożsamość:\n",
    "$$ \\mathbf{a} \\times (\\mathbf{b} \\times \\mathbf{c}) = (\\mathbf{a} \\cdot \\mathbf{c}) \\mathbf{b} - (\\mathbf{a} \\cdot \\mathbf{b}) \\mathbf{c} $$\n",
    "\n",
    "Zacznijmy od lewej strony:\n",
    "$$ \\mathbf{a} \\times (\\mathbf{b} \\times \\mathbf{c}) $$\n",
    "\n",
    "Iloczyn wektorowy można przekształcić za pomocą wzoru:\n",
    "$$ \\mathbf{a} \\times (\\mathbf{b} \\times \\mathbf{c}) = \\mathbf{b} (\\mathbf{a} \\cdot \\mathbf{c}) - \\mathbf{c} (\\mathbf{a} \\cdot \\mathbf{b}) $$\n",
    "\n",
    "Zatem:\n",
    "$$ \\mathbf{a} \\times (\\mathbf{b} \\times \\mathbf{c}) = (\\mathbf{a} \\cdot \\mathbf{c}) \\mathbf{b} - (\\mathbf{a} \\cdot \\mathbf{b}) \\mathbf{c} $$\n",
    "\n",
    "Tożsamość została udowodniona."
   ]
  }
 ],
 "metadata": {
  "colab": {
   "provenance": []
  },
  "kernelspec": {
   "display_name": "Python 3",
   "language": "python",
   "name": "python3"
  },
  "language_info": {
   "codemirror_mode": {
    "name": "ipython",
    "version": 3
   },
   "file_extension": ".py",
   "mimetype": "text/x-python",
   "name": "python",
   "nbconvert_exporter": "python",
   "pygments_lexer": "ipython3",
   "version": "3.13.0"
  }
 },
 "nbformat": 4,
 "nbformat_minor": 0
}
