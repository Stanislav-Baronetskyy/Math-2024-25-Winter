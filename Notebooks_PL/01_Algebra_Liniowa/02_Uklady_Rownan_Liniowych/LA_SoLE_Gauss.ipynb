{
 "cells": [
  {
   "cell_type": "markdown",
   "metadata": {},
   "source": [
    "## Metoda eliminacji Gaussa\n",
    "\n",
    "Rozwiązanie układu równań liniowych metodą eliminacji Gaussa polega na przekształceniu macierzy współczynników układu równań na macierz trójkątną górną, a następnie na rozwiązaniu układu równań za pomocą metody podstawiania wstecz. \n",
    "\n",
    "Jest to jedna z najbardziej podstawowych metod rozwiązywania układów równań liniowych, wychodząca poza sytuacje gdzie liczba niewiadomych jest różna od liczby równań."
   ]
  },
  {
   "cell_type": "code",
   "execution_count": 2,
   "metadata": {},
   "outputs": [
    {
     "data": {
      "text/markdown": [
       "**Początkowe równania:**"
      ],
      "text/plain": [
       "<IPython.core.display.Markdown object>"
      ]
     },
     "metadata": {},
     "output_type": "display_data"
    },
    {
     "data": {
      "text/markdown": [
       "| x1 | x2 | x3 | Wyraz wolny |\n",
       "| --- | --- | --- | --- |\n",
       "| 1 | 2 | 3 | 10 | 10 |\n",
       "| 4 | 5 | 6 | 11 | 11 |\n",
       "| 7 | 8 | 9 | 12 | 12 |\n"
      ],
      "text/plain": [
       "<IPython.core.display.Markdown object>"
      ]
     },
     "metadata": {},
     "output_type": "display_data"
    }
   ],
   "source": [
    "from sympy import Matrix, symbols, latex\n",
    "from IPython.display import display, Markdown\n",
    "\n",
    "class SymbolicMatrix:\n",
    "    def __init__(self, matrix, column_labels=None, free_terms=None, display_mode=\"table\"):\n",
    "        self.matrix = Matrix(matrix)\n",
    "        self.operations = []\n",
    "        self.display_mode = display_mode\n",
    "\n",
    "        if column_labels:\n",
    "            if len(column_labels) != self.matrix.cols:\n",
    "                raise ValueError(\"Liczba etykiet kolumn musi być równa liczbie kolumn w macierzy.\")\n",
    "            self.column_labels = column_labels\n",
    "        else:\n",
    "            self.column_labels = [f\"x{i+1}\" for i in range(self.matrix.cols)]\n",
    "\n",
    "        if free_terms:\n",
    "            if len(free_terms) != self.matrix.rows:\n",
    "                raise ValueError(\"Liczba wyrazów wolnych musi być równa liczbie wierszy w macierzy.\")\n",
    "            self.free_terms = free_terms\n",
    "        else:\n",
    "            self.free_terms = [0 for _ in range(self.matrix.rows)]\n",
    "\n",
    "        display(Markdown(\"**Początkowe równania:**\"))\n",
    "        self.display_matrix()\n",
    "\n",
    "    def set_display_mode(self, mode):\n",
    "        if mode not in [\"table\", \"equations\"]:\n",
    "            raise ValueError(\"Tryb wyświetlania musi być 'table' lub 'equations'.\")\n",
    "        self.display_mode = mode\n",
    "\n",
    "    def display_matrix(self):\n",
    "        if self.display_mode == \"table\":\n",
    "            self._display_table()\n",
    "        elif self.display_mode == \"equations\":\n",
    "            self._display_equations()\n",
    "\n",
    "    def _display_table(self):\n",
    "        matrix_with_free_terms = self.matrix.row_join(Matrix(self.free_terms))\n",
    "        headers = self.column_labels + [\"Wyraz wolny\"]\n",
    "        display(Markdown(self._matrix_to_markdown(matrix_with_free_terms, headers)))\n",
    "\n",
    "    def _matrix_to_markdown(self, matrix, headers):\n",
    "        markdown_str = \"| \" + \" | \".join(headers) + \" |\\n\"\n",
    "        markdown_str += \"| \" + \" | \".join([\"---\"] * len(headers)) + \" |\\n\"\n",
    "        for i in range(matrix.rows):\n",
    "            row = [str(matrix[i, j]) for j in range(matrix.cols)]\n",
    "            row.append(str(self.free_terms[i]))\n",
    "            markdown_str += \"| \" + \" | \".join(row) + \" |\\n\"\n",
    "        return markdown_str\n",
    "\n",
    "    def _display_equations(self):\n",
    "        equations = []\n",
    "        for i in range(self.matrix.rows):\n",
    "            terms = []\n",
    "            for j in range(self.matrix.cols):\n",
    "                coef = self.matrix[i, j]\n",
    "                var = symbols(self.column_labels[j])\n",
    "                if coef > 0:\n",
    "                    terms.append(f\"+ {latex(coef)}{latex(var)}\")\n",
    "                elif coef < 0:\n",
    "                    terms.append(f\"- {latex(abs(coef))}{latex(var)}\")\n",
    "            lhs = \" \".join(terms).lstrip(\"+ \")\n",
    "            rhs = latex(self.free_terms[i])\n",
    "            equations.append(f\"{lhs} = {rhs}\")\n",
    "        display(Markdown(\"Układ równań:\"))\n",
    "        display(Markdown(f\"\\\\begin{{aligned}} {self._equations_to_latex(equations)} \\\\end{{aligned}}\"))\n",
    "\n",
    "    def _equations_to_latex(self, equations):\n",
    "        return \" \\\\\\\\ \".join(equations)\n",
    "\n",
    "    def add_row(self, target_row, source_row, coefficient):\n",
    "        target_idx = self._validate_row_number(target_row)\n",
    "        source_idx = self._validate_row_number(source_row)\n",
    "        self.matrix.row_op(target_idx, lambda v, j: v + coefficient * self.matrix[source_idx, j])\n",
    "        self.free_terms[target_idx] += coefficient * self.free_terms[source_idx]\n",
    "        operation_str = f\"w{target_row} = w{target_row} + {coefficient}*w{source_row}\"\n",
    "        self.operations.append(operation_str)\n",
    "        display(Markdown(f\"**Operacja:** {operation_str}\"))\n",
    "        self.display_matrix()\n",
    "\n",
    "    def multiply_row(self, row, coefficient):\n",
    "        row_idx = self._validate_row_number(row)\n",
    "        self.matrix.row_op(row_idx, lambda v, _: coefficient * v)\n",
    "        self.free_terms[row_idx] *= coefficient\n",
    "        operation_str = f\"w{row} = {coefficient}*w{row}\"\n",
    "        self.operations.append(operation_str)\n",
    "        display(Markdown(f\"**Operacja:** {operation_str}\"))\n",
    "        self.display_matrix()\n",
    "\n",
    "    def swap_rows(self, row1, row2):\n",
    "        row1_idx = self._validate_row_number(row1)\n",
    "        row2_idx = self._validate_row_number(row2)\n",
    "        self.matrix.row_swap(row1_idx, row2_idx)\n",
    "        self.free_terms[row1_idx], self.free_terms[row2_idx] = self.free_terms[row2_idx], self.free_terms[row1_idx]\n",
    "        operation_str = f\"Zamiana w{row1} <-> w{row2}\"\n",
    "        self.operations.append(operation_str)\n",
    "        display(Markdown(f\"**Operacja:** {operation_str}\"))\n",
    "        self.display_matrix()\n",
    "\n",
    "    def _validate_row_number(self, row):\n",
    "        if not isinstance(row, int):\n",
    "            raise TypeError(\"Numer wiersza musi być liczbą całkowitą.\")\n",
    "        if row < 1 or row > self.matrix.rows:\n",
    "            raise IndexError(f\"Numer wiersza musi być w zakresie od 1 do {self.matrix.rows}.\")\n",
    "        return row - 1\n",
    "\n",
    "    def print_operations(self):\n",
    "        display(Markdown(\"**Wykonane operacje:**\"))\n",
    "        for op in self.operations:\n",
    "            print(op)\n",
    "\n",
    "# Przykład użycia:\n",
    "m = SymbolicMatrix([[1, 2, 3], [4, 5, 6], [7, 8, 9]], column_labels=[\"x1\", \"x2\", \"x3\"], free_terms=[10, 11, 12], display_mode=\"table\")\n"
   ]
  },
  {
   "cell_type": "code",
   "execution_count": 3,
   "metadata": {},
   "outputs": [
    {
     "data": {
      "text/markdown": [
       "**Operacja:** w2 = w2 + -4*w1"
      ],
      "text/plain": [
       "<IPython.core.display.Markdown object>"
      ]
     },
     "metadata": {},
     "output_type": "display_data"
    },
    {
     "data": {
      "text/markdown": [
       "| x1 | x2 | x3 | Wyraz wolny |\n",
       "| --- | --- | --- | --- |\n",
       "| 1 | 2 | 3 | 10 | 10 |\n",
       "| 0 | -3 | -6 | -29 | -29 |\n",
       "| 7 | 8 | 9 | 12 | 12 |\n"
      ],
      "text/plain": [
       "<IPython.core.display.Markdown object>"
      ]
     },
     "metadata": {},
     "output_type": "display_data"
    }
   ],
   "source": [
    "m.add_row(2, 1, -4)"
   ]
  },
  {
   "cell_type": "code",
   "execution_count": 4,
   "metadata": {},
   "outputs": [
    {
     "data": {
      "text/markdown": [
       "**Operacja:** w3 = w3 + -7*w1"
      ],
      "text/plain": [
       "<IPython.core.display.Markdown object>"
      ]
     },
     "metadata": {},
     "output_type": "display_data"
    },
    {
     "data": {
      "text/markdown": [
       "| x1 | x2 | x3 | Wyraz wolny |\n",
       "| --- | --- | --- | --- |\n",
       "| 1 | 2 | 3 | 10 | 10 |\n",
       "| 0 | -3 | -6 | -29 | -29 |\n",
       "| 0 | -6 | -12 | -58 | -58 |\n"
      ],
      "text/plain": [
       "<IPython.core.display.Markdown object>"
      ]
     },
     "metadata": {},
     "output_type": "display_data"
    }
   ],
   "source": [
    "m.add_row(3, 1, -7)"
   ]
  },
  {
   "cell_type": "code",
   "execution_count": 5,
   "metadata": {},
   "outputs": [
    {
     "data": {
      "text/markdown": [
       "**Operacja:** w3 = w3 + -2*w2"
      ],
      "text/plain": [
       "<IPython.core.display.Markdown object>"
      ]
     },
     "metadata": {},
     "output_type": "display_data"
    },
    {
     "data": {
      "text/markdown": [
       "| x1 | x2 | x3 | Wyraz wolny |\n",
       "| --- | --- | --- | --- |\n",
       "| 1 | 2 | 3 | 10 | 10 |\n",
       "| 0 | -3 | -6 | -29 | -29 |\n",
       "| 0 | 0 | 0 | 0 | 0 |\n"
      ],
      "text/plain": [
       "<IPython.core.display.Markdown object>"
      ]
     },
     "metadata": {},
     "output_type": "display_data"
    }
   ],
   "source": [
    "m.add_row(3, 2, -2)"
   ]
  },
  {
   "cell_type": "code",
   "execution_count": 7,
   "metadata": {},
   "outputs": [
    {
     "name": "stdout",
     "output_type": "stream",
     "text": [
      "Równanie 1:\n",
      "Eq(x1 + 2*x2 + 3*x3, 10)\n",
      "Równanie 2:\n",
      "Eq(-3*x2 - 6*x3, -29)\n",
      "Równanie 3:\n",
      "Eq(3*x3, 6)\n"
     ]
    }
   ],
   "source": [
    "import sympy as sp\n",
    "\n",
    "# Імпорт функцій Eq та symbols\n",
    "from sympy import Eq, symbols\n",
    "\n",
    "# Definicja symboli\n",
    "x1, x2, x3 = symbols('x1 x2 x3')\n",
    "\n",
    "# Definicja równań\n",
    "eq1 = Eq(x1 + 2*x2 + 3*x3, 10)\n",
    "eq2 = Eq(-3*x2 - 6*x3, -29)\n",
    "eq3 = Eq(3*x3, 6) \n",
    "\n",
    "# Wyświetlamy równania\n",
    "print(\"Równanie 1:\")\n",
    "print(eq1)\n",
    "\n",
    "print(\"Równanie 2:\")\n",
    "print(eq2)\n",
    "\n",
    "print(\"Równanie 3:\")\n",
    "print(eq3)\n"
   ]
  },
  {
   "cell_type": "code",
   "execution_count": 8,
   "metadata": {},
   "outputs": [
    {
     "data": {
      "text/latex": [
       "$\\displaystyle 2$"
      ],
      "text/plain": [
       "2"
      ]
     },
     "execution_count": 8,
     "metadata": {},
     "output_type": "execute_result"
    }
   ],
   "source": [
    "sol_x3 = sp.solve(eq3, x3)[0]\n",
    "sol_x3"
   ]
  },
  {
   "cell_type": "code",
   "execution_count": 9,
   "metadata": {},
   "outputs": [
    {
     "data": {
      "text/latex": [
       "$\\displaystyle \\frac{17}{3}$"
      ],
      "text/plain": [
       "17/3"
      ]
     },
     "execution_count": 9,
     "metadata": {},
     "output_type": "execute_result"
    }
   ],
   "source": [
    "# podstawiamy rozwiązanie x3 do równania 2\n",
    "eq2 = eq2.subs(x3, sol_x3)\n",
    "# rozwiązujemy równanie 2\n",
    "sol_x2 = sp.solve(eq2, x2)[0]\n",
    "sol_x2"
   ]
  },
  {
   "cell_type": "code",
   "execution_count": 10,
   "metadata": {},
   "outputs": [
    {
     "data": {
      "text/latex": [
       "$\\displaystyle - \\frac{22}{3}$"
      ],
      "text/plain": [
       "-22/3"
      ]
     },
     "execution_count": 10,
     "metadata": {},
     "output_type": "execute_result"
    }
   ],
   "source": [
    "# podstawiamy rozwiązania x2 i x3 do równania 1\n",
    "eq1 = eq1.subs({x2: sol_x2, x3: sol_x3})\n",
    "# rozwiązujemy równanie 1\n",
    "sol_x1 = sp.solve(eq1, x1)[0]\n",
    "sol_x1"
   ]
  },
  {
   "cell_type": "markdown",
   "metadata": {},
   "source": [
    "---\n",
    "\n",
    "## Zadania dla studentów\n",
    "\n",
    "$$\n",
    "\\left\\{\\begin{array}{c}{x+2 y-2 z=4} \\\\ {2 x+y+z=0} \\\\ {3 x+2 y+z=1}\\end{array}\\right.\\quad\n",
    "\\left\\{\\begin{array}{c}{x+y+z-t=2} \\\\ {2 x+y+z=3} \\\\ {-x+z-t=0} \\\\ {3 x+2 y-z+2 t=-1}\\end{array}\\right.\\quad\n",
    "\\left\\{\\begin{array}{c}{x+y-z-t=0} \\\\ {2 x+3 y-2 z+t=4} \\\\ {3 x+5 z=0} \\\\ {-x+y-3 z+2 t=3}\\end{array}\\right.\n",
    "$$"
   ]
  },
  {
   "cell_type": "markdown",
   "metadata": {},
   "source": []
  },
  {
   "cell_type": "markdown",
   "metadata": {},
   "source": [
    "### Zadanie 1\n",
    "\n",
    "Rozwiążmy układ równań:\n",
    "$$ \\begin{cases} \n",
    "x + 2y - 2z = 4 \\\\\n",
    "2x + y + z = 0 \\\\\n",
    "3x + 2y + z = 1 \n",
    "\\end{cases} $$\n",
    "\n",
    "**Metoda eliminacji:**\n",
    "\n",
    "1. Eliminujemy $ z $ z pierwszego i drugiego równania:\n",
    "$$ (x + 2y - 2z) + 2(2x + y + z) = 4 + 0 $$\n",
    "$$ x + 2y - 2z + 4x + 2y + 2z = 4 $$\n",
    "$$ 5x + 4y = 4 $$\n",
    "\n",
    "2. Eliminujemy $ z $ z pierwszego i trzeciego równania:\n",
    "$$ 3(x + 2y - 2z) + (3x + 2y + z) = 3 \\cdot 4 + 1 $$\n",
    "$$ 3x + 6y - 6z + 3x + 2y + z = 13 $$\n",
    "$$ 6x + 8y - 5z = 13 $$\n",
    "\n",
    "3. Rozwiązujemy układ równań:\n",
    "$$ \\begin{cases} \n",
    "5x + 4y = 4 \\\\\n",
    "6x + 8y - 5z = 13 \n",
    "\\end{cases} $$\n",
    "\n",
    "4. Eliminujemy $ y $ z pierwszego równania:\n",
    "$$ 2(5x + 4y) = 2 \\cdot 4 $$\n",
    "$$ 10x + 8y = 8 $$\n",
    "\n",
    "5. Odejmujemy drugie równanie od pierwszego:\n",
    "$$ 10x + 8y - (6x + 8y - 5z) = 8 - 13 $$\n",
    "$$ 4x + 5z = -5 $$\n",
    "$$ x = \\frac{-5 - 5z}{4} $$\n",
    "\n",
    "6. Podstawiamy $ x $ do pierwszego równania:\n",
    "$$ 5\\left(\\frac{-5 - 5z}{4}\\right) + 4y = 4 $$\n",
    "$$ \\frac{-25 - 25z}{4} + 4y = 4 $$\n",
    "$$ -25 - 25z + 16y = 16 $$\n",
    "$$ 16y = 41 + 25z $$\n",
    "$$ y = \\frac{41 + 25z}{16} $$\n",
    "\n",
    "7. Podstawiamy $ x $ i $ y $ do drugiego równania:\n",
    "$$ 2\\left(\\frac{-5 - 5z}{4}\\right) + \\frac{41 + 25z}{16} + z = 0 $$\n",
    "$$ \\frac{-10 - 10z}{4} + \\frac{41 + 25z}{16} + z = 0 $$\n",
    "$$ \\frac{-40 - 40z + 41 + 25z + 16z}{16} = 0 $$\n",
    "$$ \\frac{1 + z}{16} = 0 $$\n",
    "$$ z = -1 $$\n",
    "\n",
    "8. Podstawiamy $ z $ do wyrażeń na $ x $ i $ y $:\n",
    "$$ x = \\frac{-5 - 5(-1)}{4} $$\n",
    "$$ x = \\frac{-5 + 5}{4} $$\n",
    "$$ x = 0 $$\n",
    "\n",
    "$$ y = \\frac{41 + 25(-1)}{16} $$\n",
    "$$ y = \\frac{41 - 25}{16} $$\n",
    "$$ y = \\frac{16}{16} $$\n",
    "$$ y = 1 $$\n",
    "\n",
    "Rozwiązanie:\n",
    "$$ x = 0, \\quad y = 1, \\quad z = -1 $$\n",
    "\n",
    "### Zadanie 2\n",
    "\n",
    "Rozwiążmy układ równań:\n",
    "$$ \\begin{cases} \n",
    "x + y + z - t = 2 \\\\\n",
    "2x + y + z = 3 \\\\\n",
    "-x + z - t = 0 \\\\\n",
    "3x + 2y - z + 2t = -1 \n",
    "\\end{cases} $$\n",
    "\n",
    "**Metoda eliminacji:**\n",
    "\n",
    "1. Eliminujemy $ t $ z pierwszego i trzeciego równania:\n",
    "$$ (x + y + z - t) + (-x + z - t) = 2 + 0 $$\n",
    "$$ x + y + z - t - x + z - t = 2 $$\n",
    "$$ y + 2z - 2t = 2 $$\n",
    "\n",
    "2. Eliminujemy $ t $ z pierwszego i czwartego równania:\n",
    "$$ 3(x + y + z - t) + (3x + 2y - z + 2t) = 3 \\cdot 2 + (-1) $$\n",
    "$$ 3x + 3y + 3z - 3t + 3x + 2y - z + 2t = 5 $$\n",
    "$$ 6x + 5y + 2z - t = 5 $$\n",
    "\n",
    "3. Rozwiązujemy układ równań:\n",
    "$$ \\begin{cases} \n",
    "y + 2z - 2t = 2 \\\\\n",
    "6x + 5y + 2z - t = 5 \n",
    "\\end{cases} $$\n",
    "\n",
    "4. Eliminujemy $ y $ z pierwszego równania:\n",
    "$$ 5(y + 2z - 2t) = 5 \\cdot 2 $$\n",
    "$$ 5y + 10z - 10t = 10 $$\n",
    "\n",
    "5. Odejmujemy drugie równanie od pierwszego:\n",
    "$$ 5y + 10z - 10t - (6x + 5y + 2z - t) = 10 - 5 $$\n",
    "$$ 10z - 10t - 6x - 2z + t = 5 $$\n",
    "$$ 8z - 9t - 6x = 5 $$\n",
    "$$ x = \\frac{5 - 8z + 9t}{6} $$\n",
    "\n",
    "6. Podstawiamy $ x $ do pierwszego równania:\n",
    "$$ 2\\left(\\frac{5 - 8z + 9t}{6}\\right) + y + z = 3 $$\n",
    "$$ \\frac{10 - 16z + 18t}{6} + y + z = 3 $$\n",
    "$$ 10 - 16z + 18t + 6y + 6z = 18 $$\n",
    "$$ 6y - 10z + 18t = 8 $$\n",
    "$$ y = \\frac{8 + 10z - 18t}{6} $$\n",
    "\n",
    "7. Podstawiamy $ x $ i $ y $ do drugiego równania:\n",
    "$$ -\\left(\\frac{5 - 8z + 9t}{6}\\right) + z - t = 0 $$\n",
    "$$ -\\frac{5 - 8z + 9t}{6} + z - t = 0 $$\n",
    "$$ -5 + 8z - 9t + 6z - 6t = 0 $$\n",
    "$$ 14z - 15t = 5 $$\n",
    "$$ z = \\frac{5 + 15t}{14} $$\n",
    "\n",
    "8. Podstawiamy $ z $ do wyrażeń na $ x $ i $ y $:\n",
    "$$ x = \\frac{5 - 8\\left(\\frac{5 + 15t}{14}\\right) + 9t}{6} $$\n",
    "$$ x = \\frac{5 - \\frac{40 + 120t}{14} + 9t}{6} $$\n",
    "$$ x = \\frac{5 - \\frac{40}{14} - \\frac{120t}{14} + 9t}{6} $$\n",
    "$$ x = \\frac{5 - \\frac{20}{7} - \\frac{60t}{7} + 9t}{6} $$\n",
    "$$ x = \\frac{5 - \\frac{20}{7} + \\frac{3t}{7}}{6} $$\n",
    "\n",
    "$$ y = \\frac{8 + 10\\left(\\frac{5 + 15t}{14}\\right) - 18t}{6} $$\n",
    "$$ y = \\frac{8 + \\frac{50 + 150t}{14} - 18t}{6} $$\n",
    "$$ y = \\frac{8 + \\frac{50}{14} + \\frac{150t}{14} - 18t}{6} $$\n",
    "$$ y = \\frac{8 + \\frac{25}{7} + \\frac{75t}{7} - 18t}{6} $$\n",
    "$$ y = \\frac{8 + \\frac{25}{7} + \\frac{75t}{7} - 18t}{6} $$\n",
    "\n",
    "Rozwiązanie:\n",
    "$$ x = \\frac{5 - \\frac{20}{7} + \\frac{3t}{7}}{6}, \\quad y = \\frac{8 + \\frac{25}{7} + \\frac{75t}{7} - 18t}{6}, \\quad z = \\frac{5 + 15t}{14} $$\n",
    "\n",
    "### Zadanie 3\n",
    "\n",
    "Rozwiążmy układ równań:\n",
    "$$ \\begin{cases} \n",
    "x + y - z - t = 0 \\\\\n",
    "2x + 3y - 2z + t = 4 \\\\\n",
    "3x + 5z = 0 \\\\\n",
    "-x + y - 3z + 2t = 3 \n",
    "\\end{cases} $$\n",
    "\n",
    "**Metoda eliminacji:**\n",
    "\n",
    "1. Eliminujemy $ t $ z pierwszego i trzeciego równania:\n",
    "$$ (x + y - z - t) + (-x + y - 3z + 2t) = 0 + 3 $$\n",
    "$$ x + y - z - t - x + y - 3z + 2t = 3 $$\n",
    "$$ 2y - 4z + t = 3 $$\n",
    "\n",
    "2. Eliminujemy $ t $ z pierwszego i czwartego równania:\n",
    "$$ 3(x + y - z - t) + (3x + 5z) = 3 \\cdot 0 + 0 $$\n",
    "$$ 3x + 3y - 3z - 3t + 3x + 5z = 0 $$\n",
    "$$ 6x + 3y + 2z - 3t = 0 $$\n",
    "\n",
    "3. Rozwiązujemy układ równań:\n",
    "$$ \\begin{cases} \n",
    "2y - 4z + t = 3 \\\\\n",
    "6x + 3y + 2z - 3t = 0 \n",
    "\\end{cases} $$\n",
    "\n",
    "4. Eliminujemy $ y $ z pierwszego równania:\n",
    "$$ 3(2y - 4z + t) = 3 \\cdot 3 $$\n",
    "$$ 6y - 12z + 3t = 9 $$\n",
    "\n",
    "5. Odejmujemy drugie równanie od pierwszego:\n",
    "$$ 6y - 12z + 3t - (6x + 3y + 2z - 3t) = 9 - 0 $$\n",
    "$$ 3y - 14z + 6t = 9 $$\n",
    "$$ y = \\frac{9 + 14z - 6t}{3} $$\n",
    "\n",
    "6. Podstawiamy $ y $ do pierwszego równania:\n",
    "$$ 2\\left(\\frac{9 + 14z - 6t}{3}\\right) - 4z + t = 3 $$\n",
    "$$ \\frac{18 + 28z - 12t}{3} - 4z + t = 3 $$\n",
    "$$ 18 + 28z - 12t - 12z + 3t = 9 $$\n",
    "$$ 16z - 9t = -9 $$\n",
    "$$ z = \\frac{-9 + 9t}{16} $$\n",
    "\n",
    "7. Podstawiamy $ z $ do wyrażeń na $ x $ i $ y $:\n",
    "$$ x = \\frac{5 - 8\\left(\\frac{-9 + 9t}{16}\\right) + 9t}{6} $$\n",
    "$$ x = \\frac{5 - \\frac{-72 + 72t}{16} + 9t}{6} $$\n",
    "$$ x = \\frac{5 - \\frac{-72}{16} - \\frac{72t}{16} + 9t}{6} $$\n",
    "$$ x = \\frac{5 - \\frac{-36}{8} - \\frac{36t}{8} + 9t}{6} $$\n",
    "$$ x = \\frac{5 - \\frac{-18}{4} - \\frac{18t}{4} + 9t}{6} $$\n",
    "\n",
    "$$ y = \\frac{8 + 10\\left(\\frac{-9 + 9t}{16}\\right) - 18t}{6} $$\n",
    "$$ y = \\frac{8 + \\frac{-90 + 90t}{16} - 18t}{6} $$\n",
    "$$ y = \\frac{8 + \\frac{-90}{16} + \\frac{90t}{16} - 18t}{6} $$\n",
    "$$ y = \\frac{8 + \\frac{-45}{8} + \\frac{45t}{8} - 18t}{6} $$\n",
    "\n",
    "Rozwiązanie:\n",
    "$$ x = \\frac{5 - \\frac{-18}{4} - \\frac{18t}{4} + 9t}{6}, \\quad y = \\frac{8 + \\frac{-45}{8} + \\frac{45t}{8} - 18t}{6}, \\quad z = \\frac{-9 + 9t}{16} $$"
   ]
  }
 ],
 "metadata": {
  "kernelspec": {
   "display_name": "Python 3",
   "language": "python",
   "name": "python3"
  },
  "language_info": {
   "codemirror_mode": {
    "name": "ipython",
    "version": 3
   },
   "file_extension": ".py",
   "mimetype": "text/x-python",
   "name": "python",
   "nbconvert_exporter": "python",
   "pygments_lexer": "ipython3",
   "version": "3.13.0"
  }
 },
 "nbformat": 4,
 "nbformat_minor": 2
}
